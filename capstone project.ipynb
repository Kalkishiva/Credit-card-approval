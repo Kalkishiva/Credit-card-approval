{
 "cells": [
  {
   "cell_type": "markdown",
   "id": "827ef843",
   "metadata": {},
   "source": [
    "# Predicting Credit Card Approval for a Bank"
   ]
  },
  {
   "cell_type": "markdown",
   "id": "bcf754ac",
   "metadata": {},
   "source": [
    "1. In today's world, data-driven decision-making is crucial for financial institutions like banks. Predicting credit card approval is not only important for reducing risks associated with lending but also for providing better financial services to customers. \n",
    "2. A more accurate credit assessment process can lead to fewer defaults, increased profitability, and improved customer satisfaction. Additionally, in the context of India, where credit access is expanding rapidly, ensuring that credit cards are extended to creditworthy customers is vital for the growth and stability of the banking sector.\n",
    "\n",
    "- **Gap in Knowledge:** The traditional credit assessment process, while effective, may not utilize the full potential of data science and machine learning techniques. The proposed method aims to bridge this gap by leveraging advanced data analytics and machine learning to enhance credit assessment in the Indian banking sector."
   ]
  },
  {
   "cell_type": "markdown",
   "id": "a8f371c0",
   "metadata": {},
   "source": [
    "# Initial Hypotheses"
   ]
  },
  {
   "cell_type": "markdown",
   "id": "c0b5fbd2",
   "metadata": {},
   "source": [
    "**Hypothesis 1**: Customer income, education level, and employment status are critical factors influencing credit card approval decisions.\n",
    "\n",
    "**Hypothesis 2**: Applicants with a higher number of family members may have a higher likelihood of credit card approval.\n",
    "\n",
    "**Hypothesis 3**: Feature engineering techniques and feature scaling, will be relevant for preparing the dataset for machine learning.\n",
    "\n",
    "**Hypothesis 4**: Exploratory Data Analysis (EDA) will reveal patterns and relationships within the dataset that can help improve credit card approval predictions.\n"
   ]
  },
  {
   "cell_type": "markdown",
   "id": "a8f55d35",
   "metadata": {},
   "source": [
    "# Data Analysis Approach"
   ]
  },
  {
   "cell_type": "markdown",
   "id": "bd653550",
   "metadata": {},
   "source": [
    "- **Data Preprocessing:** Handle missing values, perform one-hot encoding for categorical variables, and scale numerical features.\n",
    "- **Exploratory Data Analysis (EDA):** Visualize and analyze the dataset to identify patterns and correlations.\n",
    "- **Feature Selection:** Identify the most important features that impact credit card approval using statistical tests and feature importance scores from machine learning models.\n",
    "- **Model Building:** Train machine learning models, including logistic regression, decision trees, random forests, and neural networks, to predict credit card approval.\n",
    "- **Model Evaluation:** Use appropriate metrics (e.g., accuracy, precision, recall, F1-score) to evaluate model performance.\n",
    "- **Model Interpretation:** Interpret the results to understand which factors influence credit card approval the most.\n",
    "- **Hyperparameter Tuning:** Optimize hyperparameters for the best-performing model.\n",
    "- **Model Deployment:** If applicable, deploy the model in a real-world environment for ongoing credit card approval decisions.\n",
    "Justification: This approach ensures a comprehensive analysis of the dataset, including both traditional credit scoring methods and machine learning techniques. EDA will help us understand the data's underlying structure and relationships, and machine learning models will provide predictive accuracy.\n"
   ]
  },
  {
   "cell_type": "markdown",
   "id": "5e11f78e",
   "metadata": {},
   "source": [
    "# Machine Learning Approach"
   ]
  },
  {
   "cell_type": "markdown",
   "id": "795c6946",
   "metadata": {},
   "source": [
    "Method: We will use various machine learning algorithms, including but not limited to:\n",
    "\n",
    "- Logistic Regression\n",
    "- Decision Trees\n",
    "- Random Forests\n",
    "- Support Vector Machine\n",
    "\n"
   ]
  },
  {
   "cell_type": "markdown",
   "id": "4711c898",
   "metadata": {},
   "source": [
    "# Steps to Improve Accuracy:# Steps to Improve Accuracy:"
   ]
  },
  {
   "cell_type": "markdown",
   "id": "a5c29af1",
   "metadata": {},
   "source": [
    "- **Cross-validation:** Employ k-fold cross-validation to ensure robust model performance.\n",
    "- **Feature Engineering:** Experiment with feature engineering techniques to create informative features.\n",
    "- **Hyperparameter Tuning:** Use techniques like grid search or random search to find optimal hyperparameters.\n",
    "- **Model Comparison:** We will compare model performance based on metrics such as accuracy, precision, recall, F1-score.\n",
    "\n",
    "**By following this approach, we aim to provide the bank with a data-driven solution for predicting credit card approval and improving its credit assessment process, ultimately benefiting both the bank and its customers.**"
   ]
  },
  {
   "cell_type": "code",
   "execution_count": 1,
   "id": "08a16a39",
   "metadata": {},
   "outputs": [],
   "source": [
    "# models to read, view, clean and process the data\n",
    "import pandas as pd\n",
    "import numpy as np\n",
    "\n",
    "# To visualize data as graphs and charts\n",
    "import matplotlib\n",
    "import matplotlib.pyplot as plt\n",
    "import seaborn as sns\n",
    "matplotlib.rcParams['figure.figsize']=(15,10) # size of graph\n",
    "\n",
    "# for user interaction\n",
    "from ipywidgets import interact\n",
    "\n",
    "# to scale and assigning dummies to values\n",
    "from sklearn.preprocessing import StandardScaler, LabelEncoder\n",
    "\n",
    "# for splitting data and selecting suitable model with highest accuracy and appropriate hyperparameters\n",
    "\n",
    "from sklearn.model_selection import train_test_split # Splitting data\n",
    "from sklearn.model_selection import cross_val_score, GridSearchCV  # for model selection and hyperparameters\n",
    "\n",
    "# to import models\n",
    "from sklearn.linear_model import LogisticRegression\n",
    "from sklearn.ensemble import RandomForestClassifier\n",
    "from sklearn.neighbors import KNeighborsClassifier\n",
    "from sklearn.svm import SVC\n",
    "\n",
    "# To evaluate model accuracy\n",
    "from sklearn.metrics import accuracy_score, confusion_matrix, classification_report, r2_score\n",
    "\n"
   ]
  },
  {
   "cell_type": "code",
   "execution_count": 2,
   "id": "d3552000",
   "metadata": {},
   "outputs": [],
   "source": [
    "# loading the data to pandas \n",
    "df1=pd.read_csv('Credit_card.csv')\n",
    "df2=pd.read_csv('Credit_card_label.csv')"
   ]
  },
  {
   "cell_type": "code",
   "execution_count": 3,
   "id": "54d71d4a",
   "metadata": {},
   "outputs": [
    {
     "data": {
      "text/html": [
       "<div>\n",
       "<style scoped>\n",
       "    .dataframe tbody tr th:only-of-type {\n",
       "        vertical-align: middle;\n",
       "    }\n",
       "\n",
       "    .dataframe tbody tr th {\n",
       "        vertical-align: top;\n",
       "    }\n",
       "\n",
       "    .dataframe thead th {\n",
       "        text-align: right;\n",
       "    }\n",
       "</style>\n",
       "<table border=\"1\" class=\"dataframe\">\n",
       "  <thead>\n",
       "    <tr style=\"text-align: right;\">\n",
       "      <th></th>\n",
       "      <th>Ind_ID</th>\n",
       "      <th>GENDER</th>\n",
       "      <th>Car_Owner</th>\n",
       "      <th>Propert_Owner</th>\n",
       "      <th>CHILDREN</th>\n",
       "      <th>Annual_income</th>\n",
       "      <th>Type_Income</th>\n",
       "      <th>EDUCATION</th>\n",
       "      <th>Marital_status</th>\n",
       "      <th>Housing_type</th>\n",
       "      <th>Birthday_count</th>\n",
       "      <th>Employed_days</th>\n",
       "      <th>Mobile_phone</th>\n",
       "      <th>Work_Phone</th>\n",
       "      <th>Phone</th>\n",
       "      <th>EMAIL_ID</th>\n",
       "      <th>Type_Occupation</th>\n",
       "      <th>Family_Members</th>\n",
       "    </tr>\n",
       "  </thead>\n",
       "  <tbody>\n",
       "    <tr>\n",
       "      <th>0</th>\n",
       "      <td>5008827</td>\n",
       "      <td>M</td>\n",
       "      <td>Y</td>\n",
       "      <td>Y</td>\n",
       "      <td>0</td>\n",
       "      <td>180000.0</td>\n",
       "      <td>Pensioner</td>\n",
       "      <td>Higher education</td>\n",
       "      <td>Married</td>\n",
       "      <td>House / apartment</td>\n",
       "      <td>-18772.0</td>\n",
       "      <td>365243</td>\n",
       "      <td>1</td>\n",
       "      <td>0</td>\n",
       "      <td>0</td>\n",
       "      <td>0</td>\n",
       "      <td>NaN</td>\n",
       "      <td>2</td>\n",
       "    </tr>\n",
       "    <tr>\n",
       "      <th>1</th>\n",
       "      <td>5009744</td>\n",
       "      <td>F</td>\n",
       "      <td>Y</td>\n",
       "      <td>N</td>\n",
       "      <td>0</td>\n",
       "      <td>315000.0</td>\n",
       "      <td>Commercial associate</td>\n",
       "      <td>Higher education</td>\n",
       "      <td>Married</td>\n",
       "      <td>House / apartment</td>\n",
       "      <td>-13557.0</td>\n",
       "      <td>-586</td>\n",
       "      <td>1</td>\n",
       "      <td>1</td>\n",
       "      <td>1</td>\n",
       "      <td>0</td>\n",
       "      <td>NaN</td>\n",
       "      <td>2</td>\n",
       "    </tr>\n",
       "    <tr>\n",
       "      <th>2</th>\n",
       "      <td>5009746</td>\n",
       "      <td>F</td>\n",
       "      <td>Y</td>\n",
       "      <td>N</td>\n",
       "      <td>0</td>\n",
       "      <td>315000.0</td>\n",
       "      <td>Commercial associate</td>\n",
       "      <td>Higher education</td>\n",
       "      <td>Married</td>\n",
       "      <td>House / apartment</td>\n",
       "      <td>NaN</td>\n",
       "      <td>-586</td>\n",
       "      <td>1</td>\n",
       "      <td>1</td>\n",
       "      <td>1</td>\n",
       "      <td>0</td>\n",
       "      <td>NaN</td>\n",
       "      <td>2</td>\n",
       "    </tr>\n",
       "    <tr>\n",
       "      <th>3</th>\n",
       "      <td>5009749</td>\n",
       "      <td>F</td>\n",
       "      <td>Y</td>\n",
       "      <td>N</td>\n",
       "      <td>0</td>\n",
       "      <td>NaN</td>\n",
       "      <td>Commercial associate</td>\n",
       "      <td>Higher education</td>\n",
       "      <td>Married</td>\n",
       "      <td>House / apartment</td>\n",
       "      <td>-13557.0</td>\n",
       "      <td>-586</td>\n",
       "      <td>1</td>\n",
       "      <td>1</td>\n",
       "      <td>1</td>\n",
       "      <td>0</td>\n",
       "      <td>NaN</td>\n",
       "      <td>2</td>\n",
       "    </tr>\n",
       "    <tr>\n",
       "      <th>4</th>\n",
       "      <td>5009752</td>\n",
       "      <td>F</td>\n",
       "      <td>Y</td>\n",
       "      <td>N</td>\n",
       "      <td>0</td>\n",
       "      <td>315000.0</td>\n",
       "      <td>Commercial associate</td>\n",
       "      <td>Higher education</td>\n",
       "      <td>Married</td>\n",
       "      <td>House / apartment</td>\n",
       "      <td>-13557.0</td>\n",
       "      <td>-586</td>\n",
       "      <td>1</td>\n",
       "      <td>1</td>\n",
       "      <td>1</td>\n",
       "      <td>0</td>\n",
       "      <td>NaN</td>\n",
       "      <td>2</td>\n",
       "    </tr>\n",
       "  </tbody>\n",
       "</table>\n",
       "</div>"
      ],
      "text/plain": [
       "    Ind_ID GENDER Car_Owner Propert_Owner  CHILDREN  Annual_income  \\\n",
       "0  5008827      M         Y             Y         0       180000.0   \n",
       "1  5009744      F         Y             N         0       315000.0   \n",
       "2  5009746      F         Y             N         0       315000.0   \n",
       "3  5009749      F         Y             N         0            NaN   \n",
       "4  5009752      F         Y             N         0       315000.0   \n",
       "\n",
       "            Type_Income         EDUCATION Marital_status       Housing_type  \\\n",
       "0             Pensioner  Higher education        Married  House / apartment   \n",
       "1  Commercial associate  Higher education        Married  House / apartment   \n",
       "2  Commercial associate  Higher education        Married  House / apartment   \n",
       "3  Commercial associate  Higher education        Married  House / apartment   \n",
       "4  Commercial associate  Higher education        Married  House / apartment   \n",
       "\n",
       "   Birthday_count  Employed_days  Mobile_phone  Work_Phone  Phone  EMAIL_ID  \\\n",
       "0        -18772.0         365243             1           0      0         0   \n",
       "1        -13557.0           -586             1           1      1         0   \n",
       "2             NaN           -586             1           1      1         0   \n",
       "3        -13557.0           -586             1           1      1         0   \n",
       "4        -13557.0           -586             1           1      1         0   \n",
       "\n",
       "  Type_Occupation  Family_Members  \n",
       "0             NaN               2  \n",
       "1             NaN               2  \n",
       "2             NaN               2  \n",
       "3             NaN               2  \n",
       "4             NaN               2  "
      ]
     },
     "execution_count": 3,
     "metadata": {},
     "output_type": "execute_result"
    }
   ],
   "source": [
    "df1.head() # to view top  5 rows of table"
   ]
  },
  {
   "cell_type": "code",
   "execution_count": 4,
   "id": "2266e5c0",
   "metadata": {},
   "outputs": [
    {
     "data": {
      "text/plain": [
       "(1548, 18)"
      ]
     },
     "execution_count": 4,
     "metadata": {},
     "output_type": "execute_result"
    }
   ],
   "source": [
    "df1.shape # Total number of rows and coluns"
   ]
  },
  {
   "cell_type": "code",
   "execution_count": 5,
   "id": "4995fc36",
   "metadata": {},
   "outputs": [
    {
     "name": "stdout",
     "output_type": "stream",
     "text": [
      "<class 'pandas.core.frame.DataFrame'>\n",
      "RangeIndex: 1548 entries, 0 to 1547\n",
      "Data columns (total 18 columns):\n",
      " #   Column           Non-Null Count  Dtype  \n",
      "---  ------           --------------  -----  \n",
      " 0   Ind_ID           1548 non-null   int64  \n",
      " 1   GENDER           1541 non-null   object \n",
      " 2   Car_Owner        1548 non-null   object \n",
      " 3   Propert_Owner    1548 non-null   object \n",
      " 4   CHILDREN         1548 non-null   int64  \n",
      " 5   Annual_income    1525 non-null   float64\n",
      " 6   Type_Income      1548 non-null   object \n",
      " 7   EDUCATION        1548 non-null   object \n",
      " 8   Marital_status   1548 non-null   object \n",
      " 9   Housing_type     1548 non-null   object \n",
      " 10  Birthday_count   1526 non-null   float64\n",
      " 11  Employed_days    1548 non-null   int64  \n",
      " 12  Mobile_phone     1548 non-null   int64  \n",
      " 13  Work_Phone       1548 non-null   int64  \n",
      " 14  Phone            1548 non-null   int64  \n",
      " 15  EMAIL_ID         1548 non-null   int64  \n",
      " 16  Type_Occupation  1060 non-null   object \n",
      " 17  Family_Members   1548 non-null   int64  \n",
      "dtypes: float64(2), int64(8), object(8)\n",
      "memory usage: 217.8+ KB\n"
     ]
    }
   ],
   "source": [
    "#Overview of data_types and non_null values of all columns\n",
    "df1.info()"
   ]
  },
  {
   "cell_type": "code",
   "execution_count": 6,
   "id": "300180ed",
   "metadata": {},
   "outputs": [
    {
     "data": {
      "text/html": [
       "<div>\n",
       "<style scoped>\n",
       "    .dataframe tbody tr th:only-of-type {\n",
       "        vertical-align: middle;\n",
       "    }\n",
       "\n",
       "    .dataframe tbody tr th {\n",
       "        vertical-align: top;\n",
       "    }\n",
       "\n",
       "    .dataframe thead th {\n",
       "        text-align: right;\n",
       "    }\n",
       "</style>\n",
       "<table border=\"1\" class=\"dataframe\">\n",
       "  <thead>\n",
       "    <tr style=\"text-align: right;\">\n",
       "      <th></th>\n",
       "      <th>Ind_ID</th>\n",
       "      <th>label</th>\n",
       "    </tr>\n",
       "  </thead>\n",
       "  <tbody>\n",
       "    <tr>\n",
       "      <th>0</th>\n",
       "      <td>5008827</td>\n",
       "      <td>1</td>\n",
       "    </tr>\n",
       "    <tr>\n",
       "      <th>1</th>\n",
       "      <td>5009744</td>\n",
       "      <td>1</td>\n",
       "    </tr>\n",
       "    <tr>\n",
       "      <th>2</th>\n",
       "      <td>5009746</td>\n",
       "      <td>1</td>\n",
       "    </tr>\n",
       "    <tr>\n",
       "      <th>3</th>\n",
       "      <td>5009749</td>\n",
       "      <td>1</td>\n",
       "    </tr>\n",
       "    <tr>\n",
       "      <th>4</th>\n",
       "      <td>5009752</td>\n",
       "      <td>1</td>\n",
       "    </tr>\n",
       "  </tbody>\n",
       "</table>\n",
       "</div>"
      ],
      "text/plain": [
       "    Ind_ID  label\n",
       "0  5008827      1\n",
       "1  5009744      1\n",
       "2  5009746      1\n",
       "3  5009749      1\n",
       "4  5009752      1"
      ]
     },
     "execution_count": 6,
     "metadata": {},
     "output_type": "execute_result"
    }
   ],
   "source": [
    "df2.head()"
   ]
  },
  {
   "cell_type": "code",
   "execution_count": 7,
   "id": "65e54a8b",
   "metadata": {},
   "outputs": [
    {
     "name": "stdout",
     "output_type": "stream",
     "text": [
      "df1: (1548, 18)\n",
      "df2: (1548, 2)\n"
     ]
    }
   ],
   "source": [
    "print('df1:',df1.shape)\n",
    "print('df2:',df2.shape)"
   ]
  },
  {
   "cell_type": "code",
   "execution_count": 8,
   "id": "f919d97a",
   "metadata": {},
   "outputs": [
    {
     "data": {
      "text/html": [
       "<div>\n",
       "<style scoped>\n",
       "    .dataframe tbody tr th:only-of-type {\n",
       "        vertical-align: middle;\n",
       "    }\n",
       "\n",
       "    .dataframe tbody tr th {\n",
       "        vertical-align: top;\n",
       "    }\n",
       "\n",
       "    .dataframe thead th {\n",
       "        text-align: right;\n",
       "    }\n",
       "</style>\n",
       "<table border=\"1\" class=\"dataframe\">\n",
       "  <thead>\n",
       "    <tr style=\"text-align: right;\">\n",
       "      <th></th>\n",
       "      <th>Ind_ID</th>\n",
       "      <th>GENDER</th>\n",
       "      <th>Car_Owner</th>\n",
       "      <th>Propert_Owner</th>\n",
       "      <th>CHILDREN</th>\n",
       "      <th>Annual_income</th>\n",
       "      <th>Type_Income</th>\n",
       "      <th>EDUCATION</th>\n",
       "      <th>Marital_status</th>\n",
       "      <th>Housing_type</th>\n",
       "      <th>Birthday_count</th>\n",
       "      <th>Employed_days</th>\n",
       "      <th>Mobile_phone</th>\n",
       "      <th>Work_Phone</th>\n",
       "      <th>Phone</th>\n",
       "      <th>EMAIL_ID</th>\n",
       "      <th>Type_Occupation</th>\n",
       "      <th>Family_Members</th>\n",
       "      <th>label</th>\n",
       "    </tr>\n",
       "  </thead>\n",
       "  <tbody>\n",
       "    <tr>\n",
       "      <th>0</th>\n",
       "      <td>5008827</td>\n",
       "      <td>M</td>\n",
       "      <td>Y</td>\n",
       "      <td>Y</td>\n",
       "      <td>0</td>\n",
       "      <td>180000.0</td>\n",
       "      <td>Pensioner</td>\n",
       "      <td>Higher education</td>\n",
       "      <td>Married</td>\n",
       "      <td>House / apartment</td>\n",
       "      <td>-18772.0</td>\n",
       "      <td>365243</td>\n",
       "      <td>1</td>\n",
       "      <td>0</td>\n",
       "      <td>0</td>\n",
       "      <td>0</td>\n",
       "      <td>NaN</td>\n",
       "      <td>2</td>\n",
       "      <td>1</td>\n",
       "    </tr>\n",
       "    <tr>\n",
       "      <th>1</th>\n",
       "      <td>5009744</td>\n",
       "      <td>F</td>\n",
       "      <td>Y</td>\n",
       "      <td>N</td>\n",
       "      <td>0</td>\n",
       "      <td>315000.0</td>\n",
       "      <td>Commercial associate</td>\n",
       "      <td>Higher education</td>\n",
       "      <td>Married</td>\n",
       "      <td>House / apartment</td>\n",
       "      <td>-13557.0</td>\n",
       "      <td>-586</td>\n",
       "      <td>1</td>\n",
       "      <td>1</td>\n",
       "      <td>1</td>\n",
       "      <td>0</td>\n",
       "      <td>NaN</td>\n",
       "      <td>2</td>\n",
       "      <td>1</td>\n",
       "    </tr>\n",
       "    <tr>\n",
       "      <th>2</th>\n",
       "      <td>5009746</td>\n",
       "      <td>F</td>\n",
       "      <td>Y</td>\n",
       "      <td>N</td>\n",
       "      <td>0</td>\n",
       "      <td>315000.0</td>\n",
       "      <td>Commercial associate</td>\n",
       "      <td>Higher education</td>\n",
       "      <td>Married</td>\n",
       "      <td>House / apartment</td>\n",
       "      <td>NaN</td>\n",
       "      <td>-586</td>\n",
       "      <td>1</td>\n",
       "      <td>1</td>\n",
       "      <td>1</td>\n",
       "      <td>0</td>\n",
       "      <td>NaN</td>\n",
       "      <td>2</td>\n",
       "      <td>1</td>\n",
       "    </tr>\n",
       "    <tr>\n",
       "      <th>3</th>\n",
       "      <td>5009749</td>\n",
       "      <td>F</td>\n",
       "      <td>Y</td>\n",
       "      <td>N</td>\n",
       "      <td>0</td>\n",
       "      <td>NaN</td>\n",
       "      <td>Commercial associate</td>\n",
       "      <td>Higher education</td>\n",
       "      <td>Married</td>\n",
       "      <td>House / apartment</td>\n",
       "      <td>-13557.0</td>\n",
       "      <td>-586</td>\n",
       "      <td>1</td>\n",
       "      <td>1</td>\n",
       "      <td>1</td>\n",
       "      <td>0</td>\n",
       "      <td>NaN</td>\n",
       "      <td>2</td>\n",
       "      <td>1</td>\n",
       "    </tr>\n",
       "    <tr>\n",
       "      <th>4</th>\n",
       "      <td>5009752</td>\n",
       "      <td>F</td>\n",
       "      <td>Y</td>\n",
       "      <td>N</td>\n",
       "      <td>0</td>\n",
       "      <td>315000.0</td>\n",
       "      <td>Commercial associate</td>\n",
       "      <td>Higher education</td>\n",
       "      <td>Married</td>\n",
       "      <td>House / apartment</td>\n",
       "      <td>-13557.0</td>\n",
       "      <td>-586</td>\n",
       "      <td>1</td>\n",
       "      <td>1</td>\n",
       "      <td>1</td>\n",
       "      <td>0</td>\n",
       "      <td>NaN</td>\n",
       "      <td>2</td>\n",
       "      <td>1</td>\n",
       "    </tr>\n",
       "  </tbody>\n",
       "</table>\n",
       "</div>"
      ],
      "text/plain": [
       "    Ind_ID GENDER Car_Owner Propert_Owner  CHILDREN  Annual_income  \\\n",
       "0  5008827      M         Y             Y         0       180000.0   \n",
       "1  5009744      F         Y             N         0       315000.0   \n",
       "2  5009746      F         Y             N         0       315000.0   \n",
       "3  5009749      F         Y             N         0            NaN   \n",
       "4  5009752      F         Y             N         0       315000.0   \n",
       "\n",
       "            Type_Income         EDUCATION Marital_status       Housing_type  \\\n",
       "0             Pensioner  Higher education        Married  House / apartment   \n",
       "1  Commercial associate  Higher education        Married  House / apartment   \n",
       "2  Commercial associate  Higher education        Married  House / apartment   \n",
       "3  Commercial associate  Higher education        Married  House / apartment   \n",
       "4  Commercial associate  Higher education        Married  House / apartment   \n",
       "\n",
       "   Birthday_count  Employed_days  Mobile_phone  Work_Phone  Phone  EMAIL_ID  \\\n",
       "0        -18772.0         365243             1           0      0         0   \n",
       "1        -13557.0           -586             1           1      1         0   \n",
       "2             NaN           -586             1           1      1         0   \n",
       "3        -13557.0           -586             1           1      1         0   \n",
       "4        -13557.0           -586             1           1      1         0   \n",
       "\n",
       "  Type_Occupation  Family_Members  label  \n",
       "0             NaN               2      1  \n",
       "1             NaN               2      1  \n",
       "2             NaN               2      1  \n",
       "3             NaN               2      1  \n",
       "4             NaN               2      1  "
      ]
     },
     "execution_count": 8,
     "metadata": {},
     "output_type": "execute_result"
    }
   ],
   "source": [
    "# Merges the two tables on common column\n",
    "df3=pd.merge(df1,df2, on ='Ind_ID')\n",
    "df3.head()"
   ]
  },
  {
   "cell_type": "code",
   "execution_count": 9,
   "id": "658da2d3",
   "metadata": {},
   "outputs": [
    {
     "data": {
      "text/plain": [
       "(1548, 19)"
      ]
     },
     "execution_count": 9,
     "metadata": {},
     "output_type": "execute_result"
    }
   ],
   "source": [
    "df3.shape"
   ]
  },
  {
   "cell_type": "code",
   "execution_count": 10,
   "id": "d5d77f0a",
   "metadata": {},
   "outputs": [
    {
     "name": "stdout",
     "output_type": "stream",
     "text": [
      "<class 'pandas.core.frame.DataFrame'>\n",
      "RangeIndex: 1548 entries, 0 to 1547\n",
      "Data columns (total 19 columns):\n",
      " #   Column           Non-Null Count  Dtype  \n",
      "---  ------           --------------  -----  \n",
      " 0   Ind_ID           1548 non-null   int64  \n",
      " 1   GENDER           1541 non-null   object \n",
      " 2   Car_Owner        1548 non-null   object \n",
      " 3   Propert_Owner    1548 non-null   object \n",
      " 4   CHILDREN         1548 non-null   int64  \n",
      " 5   Annual_income    1525 non-null   float64\n",
      " 6   Type_Income      1548 non-null   object \n",
      " 7   EDUCATION        1548 non-null   object \n",
      " 8   Marital_status   1548 non-null   object \n",
      " 9   Housing_type     1548 non-null   object \n",
      " 10  Birthday_count   1526 non-null   float64\n",
      " 11  Employed_days    1548 non-null   int64  \n",
      " 12  Mobile_phone     1548 non-null   int64  \n",
      " 13  Work_Phone       1548 non-null   int64  \n",
      " 14  Phone            1548 non-null   int64  \n",
      " 15  EMAIL_ID         1548 non-null   int64  \n",
      " 16  Type_Occupation  1060 non-null   object \n",
      " 17  Family_Members   1548 non-null   int64  \n",
      " 18  label            1548 non-null   int64  \n",
      "dtypes: float64(2), int64(9), object(8)\n",
      "memory usage: 229.9+ KB\n"
     ]
    }
   ],
   "source": [
    "df3.info()"
   ]
  },
  {
   "cell_type": "code",
   "execution_count": 11,
   "id": "2ac46feb",
   "metadata": {},
   "outputs": [
    {
     "data": {
      "text/html": [
       "<div>\n",
       "<style scoped>\n",
       "    .dataframe tbody tr th:only-of-type {\n",
       "        vertical-align: middle;\n",
       "    }\n",
       "\n",
       "    .dataframe tbody tr th {\n",
       "        vertical-align: top;\n",
       "    }\n",
       "\n",
       "    .dataframe thead th {\n",
       "        text-align: right;\n",
       "    }\n",
       "</style>\n",
       "<table border=\"1\" class=\"dataframe\">\n",
       "  <thead>\n",
       "    <tr style=\"text-align: right;\">\n",
       "      <th></th>\n",
       "      <th>Ind_ID</th>\n",
       "      <th>GENDER</th>\n",
       "      <th>Car_Owner</th>\n",
       "      <th>Propert_Owner</th>\n",
       "      <th>CHILDREN</th>\n",
       "      <th>Annual_income</th>\n",
       "      <th>Type_Income</th>\n",
       "      <th>EDUCATION</th>\n",
       "      <th>Marital_status</th>\n",
       "      <th>Housing_type</th>\n",
       "      <th>Birthday_count</th>\n",
       "      <th>Employed_days</th>\n",
       "      <th>Mobile_phone</th>\n",
       "      <th>Work_Phone</th>\n",
       "      <th>Phone</th>\n",
       "      <th>EMAIL_ID</th>\n",
       "      <th>Type_Occupation</th>\n",
       "      <th>Family_Members</th>\n",
       "      <th>label</th>\n",
       "    </tr>\n",
       "  </thead>\n",
       "  <tbody>\n",
       "  </tbody>\n",
       "</table>\n",
       "</div>"
      ],
      "text/plain": [
       "Empty DataFrame\n",
       "Columns: [Ind_ID, GENDER, Car_Owner, Propert_Owner, CHILDREN, Annual_income, Type_Income, EDUCATION, Marital_status, Housing_type, Birthday_count, Employed_days, Mobile_phone, Work_Phone, Phone, EMAIL_ID, Type_Occupation, Family_Members, label]\n",
       "Index: []"
      ]
     },
     "execution_count": 11,
     "metadata": {},
     "output_type": "execute_result"
    }
   ],
   "source": [
    "# Identify the dublicate values in table\n",
    "df3[df3.duplicated()]"
   ]
  },
  {
   "cell_type": "code",
   "execution_count": 12,
   "id": "1ae54170",
   "metadata": {},
   "outputs": [
    {
     "data": {
      "text/plain": [
       "False"
      ]
     },
     "execution_count": 12,
     "metadata": {},
     "output_type": "execute_result"
    }
   ],
   "source": [
    "df3.duplicated().any()"
   ]
  },
  {
   "cell_type": "code",
   "execution_count": 13,
   "id": "116b586e",
   "metadata": {},
   "outputs": [
    {
     "data": {
      "text/plain": [
       "Ind_ID              0.000000\n",
       "GENDER              0.452196\n",
       "Car_Owner           0.000000\n",
       "Propert_Owner       0.000000\n",
       "CHILDREN            0.000000\n",
       "Annual_income       1.485788\n",
       "Type_Income         0.000000\n",
       "EDUCATION           0.000000\n",
       "Marital_status      0.000000\n",
       "Housing_type        0.000000\n",
       "Birthday_count      1.421189\n",
       "Employed_days       0.000000\n",
       "Mobile_phone        0.000000\n",
       "Work_Phone          0.000000\n",
       "Phone               0.000000\n",
       "EMAIL_ID            0.000000\n",
       "Type_Occupation    31.524548\n",
       "Family_Members      0.000000\n",
       "label               0.000000\n",
       "dtype: float64"
      ]
     },
     "execution_count": 13,
     "metadata": {},
     "output_type": "execute_result"
    }
   ],
   "source": [
    "# Percent of null values in each column\n",
    "df3.isnull().sum()/len(df3)*100"
   ]
  },
  {
   "cell_type": "code",
   "execution_count": 14,
   "id": "78b82387",
   "metadata": {},
   "outputs": [
    {
     "data": {
      "text/plain": [
       "array([nan, 'Core staff', 'Cooking staff', 'Laborers', 'Sales staff',\n",
       "       'Accountants', 'High skill tech staff', 'Managers',\n",
       "       'Cleaning staff', 'Drivers', 'Low-skill Laborers', 'IT staff',\n",
       "       'Waiters/barmen staff', 'Security staff', 'Medicine staff',\n",
       "       'Private service staff', 'HR staff', 'Secretaries',\n",
       "       'Realty agents'], dtype=object)"
      ]
     },
     "execution_count": 14,
     "metadata": {},
     "output_type": "execute_result"
    }
   ],
   "source": [
    "# Distinct values in column 'Type_Occupation'\n",
    "df3['Type_Occupation'].unique()"
   ]
  },
  {
   "cell_type": "code",
   "execution_count": 15,
   "id": "842372ed",
   "metadata": {},
   "outputs": [
    {
     "data": {
      "text/plain": [
       "label  Type_Occupation      \n",
       "0      Laborers                 240\n",
       "       Core staff               151\n",
       "       Managers                 122\n",
       "       Sales staff              112\n",
       "       Drivers                   77\n",
       "       High skill tech staff     58\n",
       "       Medicine staff            47\n",
       "       Accountants               39\n",
       "       Cleaning staff            20\n",
       "       Security staff            17\n",
       "       Private service staff     17\n",
       "       Cooking staff             17\n",
       "       Secretaries                9\n",
       "       Low-skill Laborers         7\n",
       "       Waiters/barmen staff       4\n",
       "       HR staff                   3\n",
       "       Realty agents              2\n",
       "1      Laborers                  28\n",
       "       Core staff                23\n",
       "       Managers                  14\n",
       "       Sales staff               10\n",
       "       Drivers                    9\n",
       "       Security staff             8\n",
       "       High skill tech staff      7\n",
       "       Accountants                5\n",
       "       Cooking staff              4\n",
       "       Medicine staff             3\n",
       "       Low-skill Laborers         2\n",
       "       IT staff                   2\n",
       "       Cleaning staff             2\n",
       "       Waiters/barmen staff       1\n",
       "Name: count, dtype: int64"
      ]
     },
     "execution_count": 15,
     "metadata": {},
     "output_type": "execute_result"
    }
   ],
   "source": [
    "# total number of people having credit label good or bad with respect thier type of occupation \n",
    "df3.groupby('label')['Type_Occupation'].value_counts()"
   ]
  },
  {
   "cell_type": "code",
   "execution_count": 16,
   "id": "919e06e3",
   "metadata": {},
   "outputs": [],
   "source": [
    "# deep copy of dataframe\n",
    "df4=df3.copy()"
   ]
  },
  {
   "cell_type": "markdown",
   "id": "efc2ce9d",
   "metadata": {},
   "source": [
    "Type_Occupation have large dimensions and irregularity in data. It is not necessary, when we have annual income which is more important than occupation type, to acess credit status.So it is removed from table."
   ]
  },
  {
   "cell_type": "code",
   "execution_count": 17,
   "id": "7fdfacea",
   "metadata": {},
   "outputs": [
    {
     "data": {
      "text/plain": [
       "0               NaN\n",
       "1               NaN\n",
       "2               NaN\n",
       "3               NaN\n",
       "4               NaN\n",
       "           ...     \n",
       "1543       Managers\n",
       "1544    Accountants\n",
       "1545       Managers\n",
       "1546        Drivers\n",
       "1547            NaN\n",
       "Name: Type_Occupation, Length: 1548, dtype: object"
      ]
     },
     "execution_count": 17,
     "metadata": {},
     "output_type": "execute_result"
    }
   ],
   "source": [
    "# Delets the column from table\n",
    "df4.pop('Type_Occupation')"
   ]
  },
  {
   "cell_type": "code",
   "execution_count": 18,
   "id": "9c334ee9",
   "metadata": {},
   "outputs": [
    {
     "data": {
      "text/plain": [
       "(1548, 18)"
      ]
     },
     "execution_count": 18,
     "metadata": {},
     "output_type": "execute_result"
    }
   ],
   "source": [
    "df4.shape"
   ]
  },
  {
   "cell_type": "code",
   "execution_count": 19,
   "id": "84d1efdd",
   "metadata": {},
   "outputs": [
    {
     "data": {
      "text/plain": [
       "Index(['Ind_ID', 'GENDER', 'Car_Owner', 'Propert_Owner', 'CHILDREN',\n",
       "       'Annual_income', 'Type_Income', 'EDUCATION', 'Marital_status',\n",
       "       'Housing_type', 'Birthday_count', 'Employed_days', 'Mobile_phone',\n",
       "       'Work_Phone', 'Phone', 'EMAIL_ID', 'Family_Members', 'label'],\n",
       "      dtype='object')"
      ]
     },
     "execution_count": 19,
     "metadata": {},
     "output_type": "execute_result"
    }
   ],
   "source": [
    "# Different type of Columns in table\n",
    "df4.columns"
   ]
  },
  {
   "cell_type": "code",
   "execution_count": 20,
   "id": "092621ca",
   "metadata": {},
   "outputs": [
    {
     "data": {
      "text/plain": [
       "Ind_ID            0.000000\n",
       "GENDER            0.004522\n",
       "Car_Owner         0.000000\n",
       "Propert_Owner     0.000000\n",
       "CHILDREN          0.000000\n",
       "Annual_income     0.014858\n",
       "Type_Income       0.000000\n",
       "EDUCATION         0.000000\n",
       "Marital_status    0.000000\n",
       "Housing_type      0.000000\n",
       "Birthday_count    0.014212\n",
       "Employed_days     0.000000\n",
       "Mobile_phone      0.000000\n",
       "Work_Phone        0.000000\n",
       "Phone             0.000000\n",
       "EMAIL_ID          0.000000\n",
       "Family_Members    0.000000\n",
       "label             0.000000\n",
       "dtype: float64"
      ]
     },
     "execution_count": 20,
     "metadata": {},
     "output_type": "execute_result"
    }
   ],
   "source": [
    "df4.isnull().sum()/len(df4)"
   ]
  },
  {
   "cell_type": "code",
   "execution_count": 21,
   "id": "4f8051cf",
   "metadata": {},
   "outputs": [],
   "source": [
    "#It removes the rows containing null values from table\n",
    "df4.dropna(inplace=True)"
   ]
  },
  {
   "cell_type": "code",
   "execution_count": 22,
   "id": "f3e74add",
   "metadata": {},
   "outputs": [
    {
     "data": {
      "text/plain": [
       "Ind_ID            0.0\n",
       "GENDER            0.0\n",
       "Car_Owner         0.0\n",
       "Propert_Owner     0.0\n",
       "CHILDREN          0.0\n",
       "Annual_income     0.0\n",
       "Type_Income       0.0\n",
       "EDUCATION         0.0\n",
       "Marital_status    0.0\n",
       "Housing_type      0.0\n",
       "Birthday_count    0.0\n",
       "Employed_days     0.0\n",
       "Mobile_phone      0.0\n",
       "Work_Phone        0.0\n",
       "Phone             0.0\n",
       "EMAIL_ID          0.0\n",
       "Family_Members    0.0\n",
       "label             0.0\n",
       "dtype: float64"
      ]
     },
     "execution_count": 22,
     "metadata": {},
     "output_type": "execute_result"
    }
   ],
   "source": [
    "df4.isnull().sum()/len(df4)"
   ]
  },
  {
   "cell_type": "code",
   "execution_count": 23,
   "id": "a05af596",
   "metadata": {},
   "outputs": [
    {
     "data": {
      "text/plain": [
       "0       5008827\n",
       "1       5009744\n",
       "4       5009752\n",
       "6       5009754\n",
       "7       5009894\n",
       "         ...   \n",
       "1542    5118268\n",
       "1544    5023655\n",
       "1545    5115992\n",
       "1546    5118219\n",
       "1547    5053790\n",
       "Name: Ind_ID, Length: 1496, dtype: int64"
      ]
     },
     "execution_count": 23,
     "metadata": {},
     "output_type": "execute_result"
    }
   ],
   "source": [
    "#Id delets the Id column from table. Because it does not affect credit status\n",
    "df4.pop('Ind_ID')"
   ]
  },
  {
   "cell_type": "code",
   "execution_count": 24,
   "id": "0c558f8f",
   "metadata": {},
   "outputs": [
    {
     "data": {
      "text/plain": [
       "Index(['GENDER', 'Car_Owner', 'Propert_Owner', 'CHILDREN', 'Annual_income',\n",
       "       'Type_Income', 'EDUCATION', 'Marital_status', 'Housing_type',\n",
       "       'Birthday_count', 'Employed_days', 'Mobile_phone', 'Work_Phone',\n",
       "       'Phone', 'EMAIL_ID', 'Family_Members', 'label'],\n",
       "      dtype='object')"
      ]
     },
     "execution_count": 24,
     "metadata": {},
     "output_type": "execute_result"
    }
   ],
   "source": [
    "df4.columns"
   ]
  },
  {
   "cell_type": "markdown",
   "id": "559cabcf",
   "metadata": {},
   "source": [
    "# feature engineering"
   ]
  },
  {
   "cell_type": "markdown",
   "id": "565b67c7",
   "metadata": {},
   "source": [
    "Creating seperate dataframe for catogorical and numerical values to facilitate data processing and feature engineering"
   ]
  },
  {
   "cell_type": "code",
   "execution_count": 25,
   "id": "0e910db4",
   "metadata": {},
   "outputs": [],
   "source": [
    "# catogorical dataframe\n",
    "df4_cat=df4[['GENDER', 'Car_Owner', 'Propert_Owner','Type_Income', 'EDUCATION', 'Marital_status',\n",
    "       'Housing_type']]"
   ]
  },
  {
   "cell_type": "code",
   "execution_count": 26,
   "id": "b0e404f5",
   "metadata": {},
   "outputs": [
    {
     "data": {
      "text/html": [
       "<div>\n",
       "<style scoped>\n",
       "    .dataframe tbody tr th:only-of-type {\n",
       "        vertical-align: middle;\n",
       "    }\n",
       "\n",
       "    .dataframe tbody tr th {\n",
       "        vertical-align: top;\n",
       "    }\n",
       "\n",
       "    .dataframe thead th {\n",
       "        text-align: right;\n",
       "    }\n",
       "</style>\n",
       "<table border=\"1\" class=\"dataframe\">\n",
       "  <thead>\n",
       "    <tr style=\"text-align: right;\">\n",
       "      <th></th>\n",
       "      <th>GENDER</th>\n",
       "      <th>Car_Owner</th>\n",
       "      <th>Propert_Owner</th>\n",
       "      <th>Type_Income</th>\n",
       "      <th>EDUCATION</th>\n",
       "      <th>Marital_status</th>\n",
       "      <th>Housing_type</th>\n",
       "    </tr>\n",
       "  </thead>\n",
       "  <tbody>\n",
       "    <tr>\n",
       "      <th>0</th>\n",
       "      <td>M</td>\n",
       "      <td>Y</td>\n",
       "      <td>Y</td>\n",
       "      <td>Pensioner</td>\n",
       "      <td>Higher education</td>\n",
       "      <td>Married</td>\n",
       "      <td>House / apartment</td>\n",
       "    </tr>\n",
       "    <tr>\n",
       "      <th>1</th>\n",
       "      <td>F</td>\n",
       "      <td>Y</td>\n",
       "      <td>N</td>\n",
       "      <td>Commercial associate</td>\n",
       "      <td>Higher education</td>\n",
       "      <td>Married</td>\n",
       "      <td>House / apartment</td>\n",
       "    </tr>\n",
       "    <tr>\n",
       "      <th>4</th>\n",
       "      <td>F</td>\n",
       "      <td>Y</td>\n",
       "      <td>N</td>\n",
       "      <td>Commercial associate</td>\n",
       "      <td>Higher education</td>\n",
       "      <td>Married</td>\n",
       "      <td>House / apartment</td>\n",
       "    </tr>\n",
       "    <tr>\n",
       "      <th>6</th>\n",
       "      <td>F</td>\n",
       "      <td>Y</td>\n",
       "      <td>N</td>\n",
       "      <td>Commercial associate</td>\n",
       "      <td>Higher education</td>\n",
       "      <td>Married</td>\n",
       "      <td>House / apartment</td>\n",
       "    </tr>\n",
       "    <tr>\n",
       "      <th>7</th>\n",
       "      <td>F</td>\n",
       "      <td>N</td>\n",
       "      <td>N</td>\n",
       "      <td>Pensioner</td>\n",
       "      <td>Secondary / secondary special</td>\n",
       "      <td>Married</td>\n",
       "      <td>House / apartment</td>\n",
       "    </tr>\n",
       "  </tbody>\n",
       "</table>\n",
       "</div>"
      ],
      "text/plain": [
       "  GENDER Car_Owner Propert_Owner           Type_Income  \\\n",
       "0      M         Y             Y             Pensioner   \n",
       "1      F         Y             N  Commercial associate   \n",
       "4      F         Y             N  Commercial associate   \n",
       "6      F         Y             N  Commercial associate   \n",
       "7      F         N             N             Pensioner   \n",
       "\n",
       "                       EDUCATION Marital_status       Housing_type  \n",
       "0               Higher education        Married  House / apartment  \n",
       "1               Higher education        Married  House / apartment  \n",
       "4               Higher education        Married  House / apartment  \n",
       "6               Higher education        Married  House / apartment  \n",
       "7  Secondary / secondary special        Married  House / apartment  "
      ]
     },
     "execution_count": 26,
     "metadata": {},
     "output_type": "execute_result"
    }
   ],
   "source": [
    "df4_cat.head()"
   ]
  },
  {
   "cell_type": "code",
   "execution_count": 27,
   "id": "383ddd8e",
   "metadata": {},
   "outputs": [],
   "source": [
    "#numerical dataframe\n",
    "df4_nu=df4.drop(['GENDER', 'Car_Owner', 'Propert_Owner','Type_Income', 'EDUCATION', 'Marital_status',\n",
    "       'Housing_type'], axis= 1)"
   ]
  },
  {
   "cell_type": "code",
   "execution_count": 28,
   "id": "64b096f9",
   "metadata": {},
   "outputs": [
    {
     "data": {
      "text/html": [
       "<div>\n",
       "<style scoped>\n",
       "    .dataframe tbody tr th:only-of-type {\n",
       "        vertical-align: middle;\n",
       "    }\n",
       "\n",
       "    .dataframe tbody tr th {\n",
       "        vertical-align: top;\n",
       "    }\n",
       "\n",
       "    .dataframe thead th {\n",
       "        text-align: right;\n",
       "    }\n",
       "</style>\n",
       "<table border=\"1\" class=\"dataframe\">\n",
       "  <thead>\n",
       "    <tr style=\"text-align: right;\">\n",
       "      <th></th>\n",
       "      <th>CHILDREN</th>\n",
       "      <th>Annual_income</th>\n",
       "      <th>Birthday_count</th>\n",
       "      <th>Employed_days</th>\n",
       "      <th>Mobile_phone</th>\n",
       "      <th>Work_Phone</th>\n",
       "      <th>Phone</th>\n",
       "      <th>EMAIL_ID</th>\n",
       "      <th>Family_Members</th>\n",
       "      <th>label</th>\n",
       "    </tr>\n",
       "  </thead>\n",
       "  <tbody>\n",
       "    <tr>\n",
       "      <th>0</th>\n",
       "      <td>0</td>\n",
       "      <td>180000.0</td>\n",
       "      <td>-18772.0</td>\n",
       "      <td>365243</td>\n",
       "      <td>1</td>\n",
       "      <td>0</td>\n",
       "      <td>0</td>\n",
       "      <td>0</td>\n",
       "      <td>2</td>\n",
       "      <td>1</td>\n",
       "    </tr>\n",
       "    <tr>\n",
       "      <th>1</th>\n",
       "      <td>0</td>\n",
       "      <td>315000.0</td>\n",
       "      <td>-13557.0</td>\n",
       "      <td>-586</td>\n",
       "      <td>1</td>\n",
       "      <td>1</td>\n",
       "      <td>1</td>\n",
       "      <td>0</td>\n",
       "      <td>2</td>\n",
       "      <td>1</td>\n",
       "    </tr>\n",
       "    <tr>\n",
       "      <th>4</th>\n",
       "      <td>0</td>\n",
       "      <td>315000.0</td>\n",
       "      <td>-13557.0</td>\n",
       "      <td>-586</td>\n",
       "      <td>1</td>\n",
       "      <td>1</td>\n",
       "      <td>1</td>\n",
       "      <td>0</td>\n",
       "      <td>2</td>\n",
       "      <td>1</td>\n",
       "    </tr>\n",
       "    <tr>\n",
       "      <th>6</th>\n",
       "      <td>0</td>\n",
       "      <td>315000.0</td>\n",
       "      <td>-13557.0</td>\n",
       "      <td>-586</td>\n",
       "      <td>1</td>\n",
       "      <td>1</td>\n",
       "      <td>1</td>\n",
       "      <td>0</td>\n",
       "      <td>2</td>\n",
       "      <td>1</td>\n",
       "    </tr>\n",
       "    <tr>\n",
       "      <th>7</th>\n",
       "      <td>0</td>\n",
       "      <td>180000.0</td>\n",
       "      <td>-22134.0</td>\n",
       "      <td>365243</td>\n",
       "      <td>1</td>\n",
       "      <td>0</td>\n",
       "      <td>0</td>\n",
       "      <td>0</td>\n",
       "      <td>2</td>\n",
       "      <td>1</td>\n",
       "    </tr>\n",
       "  </tbody>\n",
       "</table>\n",
       "</div>"
      ],
      "text/plain": [
       "   CHILDREN  Annual_income  Birthday_count  Employed_days  Mobile_phone  \\\n",
       "0         0       180000.0        -18772.0         365243             1   \n",
       "1         0       315000.0        -13557.0           -586             1   \n",
       "4         0       315000.0        -13557.0           -586             1   \n",
       "6         0       315000.0        -13557.0           -586             1   \n",
       "7         0       180000.0        -22134.0         365243             1   \n",
       "\n",
       "   Work_Phone  Phone  EMAIL_ID  Family_Members  label  \n",
       "0           0      0         0               2      1  \n",
       "1           1      1         0               2      1  \n",
       "4           1      1         0               2      1  \n",
       "6           1      1         0               2      1  \n",
       "7           0      0         0               2      1  "
      ]
     },
     "execution_count": 28,
     "metadata": {},
     "output_type": "execute_result"
    }
   ],
   "source": [
    "df4_nu.head()"
   ]
  },
  {
   "cell_type": "code",
   "execution_count": 29,
   "id": "62d4bb11",
   "metadata": {},
   "outputs": [
    {
     "data": {
      "application/vnd.jupyter.widget-view+json": {
       "model_id": "1150c48411644750ba45ca43da1b0e56",
       "version_major": 2,
       "version_minor": 0
      },
      "text/plain": [
       "interactive(children=(Dropdown(description='col', options=('GENDER', 'Car_Owner', 'Propert_Owner', 'Type_Incom…"
      ]
     },
     "metadata": {},
     "output_type": "display_data"
    }
   ],
   "source": [
    "#Creates interative drop down list\n",
    "@interact\n",
    "def cat_uniq(col=list(df4_cat.columns)):\n",
    "    print(df4_cat[col].value_counts())\n",
    "    sns.countplot(x=df4_cat[col],hue=df4['label'], data= df4_cat)"
   ]
  },
  {
   "cell_type": "markdown",
   "id": "3335e8ce",
   "metadata": {},
   "source": [
    "Reducing dimensions of categorical columns"
   ]
  },
  {
   "cell_type": "code",
   "execution_count": 30,
   "id": "388f2926",
   "metadata": {},
   "outputs": [],
   "source": [
    "df4_cat1=df4_cat.copy()"
   ]
  },
  {
   "cell_type": "code",
   "execution_count": 31,
   "id": "87e2a097",
   "metadata": {},
   "outputs": [],
   "source": [
    "#sorting values into ['Commercial associate', 'Working', 'State servant'] as'working' and remaining as'Pensioner'\n",
    "df4_cat1['Type_Income']=np.where(df4_cat1['Type_Income'].isin(['Commercial associate', 'Working', 'State servant']), 'working', 'Pensioner')\n"
   ]
  },
  {
   "cell_type": "code",
   "execution_count": 32,
   "id": "b04e89b1",
   "metadata": {},
   "outputs": [
    {
     "data": {
      "text/plain": [
       "Type_Income\n",
       "working      1237\n",
       "Pensioner     259\n",
       "Name: count, dtype: int64"
      ]
     },
     "execution_count": 32,
     "metadata": {},
     "output_type": "execute_result"
    }
   ],
   "source": [
    "df4_cat1['Type_Income'].value_counts()"
   ]
  },
  {
   "cell_type": "code",
   "execution_count": 33,
   "id": "7bfd7733",
   "metadata": {},
   "outputs": [],
   "source": [
    "#sorting values into ['Higher education','Academic degree'] as'Degree' and ['Secondary / secondary special','Incomplete higher'] as'Secondary' and remaining as 'Lower Secondary'\n",
    "df4_cat1['EDUCATION']=np.where(df4_cat1['EDUCATION'].isin(['Higher education','Academic degree']), 'Degree',np.where(df4_cat1['EDUCATION'].isin(['Secondary / secondary special','Incomplete higher']), 'Secondary', 'Lower Secondary'))\n"
   ]
  },
  {
   "cell_type": "code",
   "execution_count": 34,
   "id": "79b40f37",
   "metadata": {},
   "outputs": [
    {
     "data": {
      "text/plain": [
       "EDUCATION\n",
       "Secondary          1064\n",
       "Degree              411\n",
       "Lower Secondary      21\n",
       "Name: count, dtype: int64"
      ]
     },
     "execution_count": 34,
     "metadata": {},
     "output_type": "execute_result"
    }
   ],
   "source": [
    "df4_cat1['EDUCATION'].value_counts()"
   ]
  },
  {
   "cell_type": "code",
   "execution_count": 35,
   "id": "c434ba8f",
   "metadata": {},
   "outputs": [],
   "source": [
    "#sorting values into ['Married','Civil marriage'] as 'Married' and ['Separated','Widow'] as 'Single(married)' and remaining as 'Single(not married)'\n",
    "\n",
    "df4_cat1['Marital_status']=np.where(df4_cat1['Marital_status'].isin(['Married','Civil marriage']), 'Married',np.where(df4_cat1['Marital_status'].isin(['Separated','Widow']), 'Single(married)', 'Single(not married)'))\n"
   ]
  },
  {
   "cell_type": "code",
   "execution_count": 36,
   "id": "12f20616",
   "metadata": {},
   "outputs": [
    {
     "data": {
      "text/plain": [
       "Marital_status\n",
       "Married                1112\n",
       "Single(not married)     218\n",
       "Single(married)         166\n",
       "Name: count, dtype: int64"
      ]
     },
     "execution_count": 36,
     "metadata": {},
     "output_type": "execute_result"
    }
   ],
   "source": [
    "# Total number of each distinct values in marital_status column\n",
    "df4_cat1['Marital_status'].value_counts()"
   ]
  },
  {
   "cell_type": "code",
   "execution_count": 37,
   "id": "24298338",
   "metadata": {},
   "outputs": [],
   "source": [
    "#sorting values into ['House / apartment','With parents'] as 'Own_house' and remaining as'No-Own_house' \n",
    "df4_cat1['Housing_type']=np.where(df4_cat1['Housing_type'].isin(['House / apartment','With parents']), 'Own_house', 'No-Own_house')\n"
   ]
  },
  {
   "cell_type": "code",
   "execution_count": 38,
   "id": "eb39523a",
   "metadata": {},
   "outputs": [
    {
     "data": {
      "text/plain": [
       "Housing_type\n",
       "Own_house       1410\n",
       "No-Own_house      86\n",
       "Name: count, dtype: int64"
      ]
     },
     "execution_count": 38,
     "metadata": {},
     "output_type": "execute_result"
    }
   ],
   "source": [
    "df4_cat1['Housing_type'].value_counts()"
   ]
  },
  {
   "cell_type": "code",
   "execution_count": 39,
   "id": "5861e8cc",
   "metadata": {},
   "outputs": [
    {
     "data": {
      "text/html": [
       "<div>\n",
       "<style scoped>\n",
       "    .dataframe tbody tr th:only-of-type {\n",
       "        vertical-align: middle;\n",
       "    }\n",
       "\n",
       "    .dataframe tbody tr th {\n",
       "        vertical-align: top;\n",
       "    }\n",
       "\n",
       "    .dataframe thead th {\n",
       "        text-align: right;\n",
       "    }\n",
       "</style>\n",
       "<table border=\"1\" class=\"dataframe\">\n",
       "  <thead>\n",
       "    <tr style=\"text-align: right;\">\n",
       "      <th></th>\n",
       "      <th>GENDER</th>\n",
       "      <th>Car_Owner</th>\n",
       "      <th>Propert_Owner</th>\n",
       "      <th>Type_Income</th>\n",
       "      <th>EDUCATION</th>\n",
       "      <th>Marital_status</th>\n",
       "      <th>Housing_type</th>\n",
       "    </tr>\n",
       "  </thead>\n",
       "  <tbody>\n",
       "    <tr>\n",
       "      <th>0</th>\n",
       "      <td>M</td>\n",
       "      <td>Y</td>\n",
       "      <td>Y</td>\n",
       "      <td>Pensioner</td>\n",
       "      <td>Degree</td>\n",
       "      <td>Married</td>\n",
       "      <td>Own_house</td>\n",
       "    </tr>\n",
       "    <tr>\n",
       "      <th>1</th>\n",
       "      <td>F</td>\n",
       "      <td>Y</td>\n",
       "      <td>N</td>\n",
       "      <td>working</td>\n",
       "      <td>Degree</td>\n",
       "      <td>Married</td>\n",
       "      <td>Own_house</td>\n",
       "    </tr>\n",
       "    <tr>\n",
       "      <th>4</th>\n",
       "      <td>F</td>\n",
       "      <td>Y</td>\n",
       "      <td>N</td>\n",
       "      <td>working</td>\n",
       "      <td>Degree</td>\n",
       "      <td>Married</td>\n",
       "      <td>Own_house</td>\n",
       "    </tr>\n",
       "    <tr>\n",
       "      <th>6</th>\n",
       "      <td>F</td>\n",
       "      <td>Y</td>\n",
       "      <td>N</td>\n",
       "      <td>working</td>\n",
       "      <td>Degree</td>\n",
       "      <td>Married</td>\n",
       "      <td>Own_house</td>\n",
       "    </tr>\n",
       "    <tr>\n",
       "      <th>7</th>\n",
       "      <td>F</td>\n",
       "      <td>N</td>\n",
       "      <td>N</td>\n",
       "      <td>Pensioner</td>\n",
       "      <td>Secondary</td>\n",
       "      <td>Married</td>\n",
       "      <td>Own_house</td>\n",
       "    </tr>\n",
       "  </tbody>\n",
       "</table>\n",
       "</div>"
      ],
      "text/plain": [
       "  GENDER Car_Owner Propert_Owner Type_Income  EDUCATION Marital_status  \\\n",
       "0      M         Y             Y   Pensioner     Degree        Married   \n",
       "1      F         Y             N     working     Degree        Married   \n",
       "4      F         Y             N     working     Degree        Married   \n",
       "6      F         Y             N     working     Degree        Married   \n",
       "7      F         N             N   Pensioner  Secondary        Married   \n",
       "\n",
       "  Housing_type  \n",
       "0    Own_house  \n",
       "1    Own_house  \n",
       "4    Own_house  \n",
       "6    Own_house  \n",
       "7    Own_house  "
      ]
     },
     "execution_count": 39,
     "metadata": {},
     "output_type": "execute_result"
    }
   ],
   "source": [
    "df4_cat1.head()"
   ]
  },
  {
   "cell_type": "code",
   "execution_count": 40,
   "id": "dff7bf4d",
   "metadata": {},
   "outputs": [
    {
     "data": {
      "application/vnd.jupyter.widget-view+json": {
       "model_id": "f0144aa2d80d4f8b84e90e68c2db98f9",
       "version_major": 2,
       "version_minor": 0
      },
      "text/plain": [
       "interactive(children=(Dropdown(description='col', options=('GENDER', 'Car_Owner', 'Propert_Owner', 'Type_Incom…"
      ]
     },
     "metadata": {},
     "output_type": "display_data"
    }
   ],
   "source": [
    "# User interaction to view distinct values of column and graph of 'distinct values' vs 'label'\n",
    "@interact\n",
    "def cat_uniq(col=list(df4_cat1.columns)):\n",
    "    print(df4_cat1[col].value_counts()) # distinct values of column\n",
    "    sns.countplot(x=df4_cat1[col],hue=df4['label'], data= df4_cat1) # ploting each distinct'value vs label', to observe no_of each values with 0 & 1 label."
   ]
  },
  {
   "cell_type": "code",
   "execution_count": 41,
   "id": "24fd7583",
   "metadata": {},
   "outputs": [],
   "source": [
    "df4_cat2=df4_cat1.copy()"
   ]
  },
  {
   "cell_type": "code",
   "execution_count": 42,
   "id": "309740c4",
   "metadata": {},
   "outputs": [],
   "source": [
    "le=LabelEncoder() # to create numerical dummies for categorical values."
   ]
  },
  {
   "cell_type": "code",
   "execution_count": 43,
   "id": "81833641",
   "metadata": {},
   "outputs": [],
   "source": [
    "cols=list(df4_cat2.columns)\n",
    "\n",
    "# loop which iterate over all categorical columns and creates dummies for it.\n",
    "for i in cols:\n",
    "    df4_cat2[i]=le.fit_transform(df4_cat2[i])\n"
   ]
  },
  {
   "cell_type": "code",
   "execution_count": 44,
   "id": "ed390cea",
   "metadata": {},
   "outputs": [
    {
     "data": {
      "text/html": [
       "<div>\n",
       "<style scoped>\n",
       "    .dataframe tbody tr th:only-of-type {\n",
       "        vertical-align: middle;\n",
       "    }\n",
       "\n",
       "    .dataframe tbody tr th {\n",
       "        vertical-align: top;\n",
       "    }\n",
       "\n",
       "    .dataframe thead th {\n",
       "        text-align: right;\n",
       "    }\n",
       "</style>\n",
       "<table border=\"1\" class=\"dataframe\">\n",
       "  <thead>\n",
       "    <tr style=\"text-align: right;\">\n",
       "      <th></th>\n",
       "      <th>GENDER</th>\n",
       "      <th>Car_Owner</th>\n",
       "      <th>Propert_Owner</th>\n",
       "      <th>Type_Income</th>\n",
       "      <th>EDUCATION</th>\n",
       "      <th>Marital_status</th>\n",
       "      <th>Housing_type</th>\n",
       "    </tr>\n",
       "  </thead>\n",
       "  <tbody>\n",
       "    <tr>\n",
       "      <th>0</th>\n",
       "      <td>1</td>\n",
       "      <td>1</td>\n",
       "      <td>1</td>\n",
       "      <td>0</td>\n",
       "      <td>0</td>\n",
       "      <td>0</td>\n",
       "      <td>1</td>\n",
       "    </tr>\n",
       "    <tr>\n",
       "      <th>1</th>\n",
       "      <td>0</td>\n",
       "      <td>1</td>\n",
       "      <td>0</td>\n",
       "      <td>1</td>\n",
       "      <td>0</td>\n",
       "      <td>0</td>\n",
       "      <td>1</td>\n",
       "    </tr>\n",
       "    <tr>\n",
       "      <th>4</th>\n",
       "      <td>0</td>\n",
       "      <td>1</td>\n",
       "      <td>0</td>\n",
       "      <td>1</td>\n",
       "      <td>0</td>\n",
       "      <td>0</td>\n",
       "      <td>1</td>\n",
       "    </tr>\n",
       "    <tr>\n",
       "      <th>6</th>\n",
       "      <td>0</td>\n",
       "      <td>1</td>\n",
       "      <td>0</td>\n",
       "      <td>1</td>\n",
       "      <td>0</td>\n",
       "      <td>0</td>\n",
       "      <td>1</td>\n",
       "    </tr>\n",
       "    <tr>\n",
       "      <th>7</th>\n",
       "      <td>0</td>\n",
       "      <td>0</td>\n",
       "      <td>0</td>\n",
       "      <td>0</td>\n",
       "      <td>2</td>\n",
       "      <td>0</td>\n",
       "      <td>1</td>\n",
       "    </tr>\n",
       "    <tr>\n",
       "      <th>8</th>\n",
       "      <td>1</td>\n",
       "      <td>1</td>\n",
       "      <td>1</td>\n",
       "      <td>1</td>\n",
       "      <td>2</td>\n",
       "      <td>0</td>\n",
       "      <td>1</td>\n",
       "    </tr>\n",
       "    <tr>\n",
       "      <th>9</th>\n",
       "      <td>1</td>\n",
       "      <td>1</td>\n",
       "      <td>1</td>\n",
       "      <td>0</td>\n",
       "      <td>2</td>\n",
       "      <td>0</td>\n",
       "      <td>1</td>\n",
       "    </tr>\n",
       "    <tr>\n",
       "      <th>10</th>\n",
       "      <td>1</td>\n",
       "      <td>1</td>\n",
       "      <td>1</td>\n",
       "      <td>1</td>\n",
       "      <td>2</td>\n",
       "      <td>2</td>\n",
       "      <td>1</td>\n",
       "    </tr>\n",
       "    <tr>\n",
       "      <th>11</th>\n",
       "      <td>0</td>\n",
       "      <td>1</td>\n",
       "      <td>1</td>\n",
       "      <td>1</td>\n",
       "      <td>2</td>\n",
       "      <td>0</td>\n",
       "      <td>1</td>\n",
       "    </tr>\n",
       "    <tr>\n",
       "      <th>13</th>\n",
       "      <td>0</td>\n",
       "      <td>1</td>\n",
       "      <td>1</td>\n",
       "      <td>1</td>\n",
       "      <td>2</td>\n",
       "      <td>0</td>\n",
       "      <td>1</td>\n",
       "    </tr>\n",
       "    <tr>\n",
       "      <th>14</th>\n",
       "      <td>1</td>\n",
       "      <td>0</td>\n",
       "      <td>0</td>\n",
       "      <td>0</td>\n",
       "      <td>0</td>\n",
       "      <td>0</td>\n",
       "      <td>1</td>\n",
       "    </tr>\n",
       "    <tr>\n",
       "      <th>15</th>\n",
       "      <td>1</td>\n",
       "      <td>0</td>\n",
       "      <td>1</td>\n",
       "      <td>1</td>\n",
       "      <td>2</td>\n",
       "      <td>0</td>\n",
       "      <td>1</td>\n",
       "    </tr>\n",
       "    <tr>\n",
       "      <th>16</th>\n",
       "      <td>1</td>\n",
       "      <td>0</td>\n",
       "      <td>1</td>\n",
       "      <td>1</td>\n",
       "      <td>2</td>\n",
       "      <td>2</td>\n",
       "      <td>1</td>\n",
       "    </tr>\n",
       "    <tr>\n",
       "      <th>17</th>\n",
       "      <td>0</td>\n",
       "      <td>0</td>\n",
       "      <td>1</td>\n",
       "      <td>1</td>\n",
       "      <td>0</td>\n",
       "      <td>2</td>\n",
       "      <td>1</td>\n",
       "    </tr>\n",
       "    <tr>\n",
       "      <th>18</th>\n",
       "      <td>0</td>\n",
       "      <td>0</td>\n",
       "      <td>1</td>\n",
       "      <td>1</td>\n",
       "      <td>0</td>\n",
       "      <td>2</td>\n",
       "      <td>1</td>\n",
       "    </tr>\n",
       "  </tbody>\n",
       "</table>\n",
       "</div>"
      ],
      "text/plain": [
       "    GENDER  Car_Owner  Propert_Owner  Type_Income  EDUCATION  Marital_status  \\\n",
       "0        1          1              1            0          0               0   \n",
       "1        0          1              0            1          0               0   \n",
       "4        0          1              0            1          0               0   \n",
       "6        0          1              0            1          0               0   \n",
       "7        0          0              0            0          2               0   \n",
       "8        1          1              1            1          2               0   \n",
       "9        1          1              1            0          2               0   \n",
       "10       1          1              1            1          2               2   \n",
       "11       0          1              1            1          2               0   \n",
       "13       0          1              1            1          2               0   \n",
       "14       1          0              0            0          0               0   \n",
       "15       1          0              1            1          2               0   \n",
       "16       1          0              1            1          2               2   \n",
       "17       0          0              1            1          0               2   \n",
       "18       0          0              1            1          0               2   \n",
       "\n",
       "    Housing_type  \n",
       "0              1  \n",
       "1              1  \n",
       "4              1  \n",
       "6              1  \n",
       "7              1  \n",
       "8              1  \n",
       "9              1  \n",
       "10             1  \n",
       "11             1  \n",
       "13             1  \n",
       "14             1  \n",
       "15             1  \n",
       "16             1  \n",
       "17             1  \n",
       "18             1  "
      ]
     },
     "execution_count": 44,
     "metadata": {},
     "output_type": "execute_result"
    }
   ],
   "source": [
    "# Data frame of Categorical columns transformed with numerical dummy values using 'LabelEncoder'\n",
    "df4_cat2.head(15)"
   ]
  },
  {
   "cell_type": "markdown",
   "id": "42544d81",
   "metadata": {},
   "source": [
    "- 'Gender:        Female- 0 ,  Male- 1' \n",
    "- 'Car_owner:     No-0,        Yes-1 '\n",
    "- 'Property_owner:No-0,        Yes-1 '\n",
    "- 'Type_Income:   Working-1,   Pensioner-0 ' \n",
    "- 'Education:     Lower Secondary-0,    Degree-1,    Secondary-2'\n",
    "- 'Martial status:Married-0,   Single(married)-1,    Singele(Not married)-2 '\n",
    "- 'Housing type:  No-Own house-0,  Own house-1 "
   ]
  },
  {
   "cell_type": "code",
   "execution_count": 45,
   "id": "c8fe549a",
   "metadata": {},
   "outputs": [
    {
     "data": {
      "text/html": [
       "<div>\n",
       "<style scoped>\n",
       "    .dataframe tbody tr th:only-of-type {\n",
       "        vertical-align: middle;\n",
       "    }\n",
       "\n",
       "    .dataframe tbody tr th {\n",
       "        vertical-align: top;\n",
       "    }\n",
       "\n",
       "    .dataframe thead th {\n",
       "        text-align: right;\n",
       "    }\n",
       "</style>\n",
       "<table border=\"1\" class=\"dataframe\">\n",
       "  <thead>\n",
       "    <tr style=\"text-align: right;\">\n",
       "      <th></th>\n",
       "      <th>CHILDREN</th>\n",
       "      <th>Annual_income</th>\n",
       "      <th>Birthday_count</th>\n",
       "      <th>Employed_days</th>\n",
       "      <th>Mobile_phone</th>\n",
       "      <th>Work_Phone</th>\n",
       "      <th>Phone</th>\n",
       "      <th>EMAIL_ID</th>\n",
       "      <th>Family_Members</th>\n",
       "      <th>label</th>\n",
       "    </tr>\n",
       "  </thead>\n",
       "  <tbody>\n",
       "    <tr>\n",
       "      <th>0</th>\n",
       "      <td>0</td>\n",
       "      <td>180000.0</td>\n",
       "      <td>-18772.0</td>\n",
       "      <td>365243</td>\n",
       "      <td>1</td>\n",
       "      <td>0</td>\n",
       "      <td>0</td>\n",
       "      <td>0</td>\n",
       "      <td>2</td>\n",
       "      <td>1</td>\n",
       "    </tr>\n",
       "    <tr>\n",
       "      <th>1</th>\n",
       "      <td>0</td>\n",
       "      <td>315000.0</td>\n",
       "      <td>-13557.0</td>\n",
       "      <td>-586</td>\n",
       "      <td>1</td>\n",
       "      <td>1</td>\n",
       "      <td>1</td>\n",
       "      <td>0</td>\n",
       "      <td>2</td>\n",
       "      <td>1</td>\n",
       "    </tr>\n",
       "    <tr>\n",
       "      <th>4</th>\n",
       "      <td>0</td>\n",
       "      <td>315000.0</td>\n",
       "      <td>-13557.0</td>\n",
       "      <td>-586</td>\n",
       "      <td>1</td>\n",
       "      <td>1</td>\n",
       "      <td>1</td>\n",
       "      <td>0</td>\n",
       "      <td>2</td>\n",
       "      <td>1</td>\n",
       "    </tr>\n",
       "    <tr>\n",
       "      <th>6</th>\n",
       "      <td>0</td>\n",
       "      <td>315000.0</td>\n",
       "      <td>-13557.0</td>\n",
       "      <td>-586</td>\n",
       "      <td>1</td>\n",
       "      <td>1</td>\n",
       "      <td>1</td>\n",
       "      <td>0</td>\n",
       "      <td>2</td>\n",
       "      <td>1</td>\n",
       "    </tr>\n",
       "    <tr>\n",
       "      <th>7</th>\n",
       "      <td>0</td>\n",
       "      <td>180000.0</td>\n",
       "      <td>-22134.0</td>\n",
       "      <td>365243</td>\n",
       "      <td>1</td>\n",
       "      <td>0</td>\n",
       "      <td>0</td>\n",
       "      <td>0</td>\n",
       "      <td>2</td>\n",
       "      <td>1</td>\n",
       "    </tr>\n",
       "  </tbody>\n",
       "</table>\n",
       "</div>"
      ],
      "text/plain": [
       "   CHILDREN  Annual_income  Birthday_count  Employed_days  Mobile_phone  \\\n",
       "0         0       180000.0        -18772.0         365243             1   \n",
       "1         0       315000.0        -13557.0           -586             1   \n",
       "4         0       315000.0        -13557.0           -586             1   \n",
       "6         0       315000.0        -13557.0           -586             1   \n",
       "7         0       180000.0        -22134.0         365243             1   \n",
       "\n",
       "   Work_Phone  Phone  EMAIL_ID  Family_Members  label  \n",
       "0           0      0         0               2      1  \n",
       "1           1      1         0               2      1  \n",
       "4           1      1         0               2      1  \n",
       "6           1      1         0               2      1  \n",
       "7           0      0         0               2      1  "
      ]
     },
     "execution_count": 45,
     "metadata": {},
     "output_type": "execute_result"
    }
   ],
   "source": [
    "df4_nu.head()"
   ]
  },
  {
   "cell_type": "markdown",
   "id": "328f1c2f",
   "metadata": {},
   "source": [
    "The columns 'Mobile_phone', 'Work_Phone', 'Phone', 'EMAIL_ID' do not have any effect on credit labeling so these are removed from dataframe for further analysis"
   ]
  },
  {
   "cell_type": "code",
   "execution_count": 46,
   "id": "0827d81c",
   "metadata": {},
   "outputs": [],
   "source": [
    "df4_nu1=df4_nu.copy()\n",
    "df4_nu1.drop(['Mobile_phone', 'Work_Phone', 'Phone', 'EMAIL_ID'], axis=1,inplace=True)"
   ]
  },
  {
   "cell_type": "code",
   "execution_count": 47,
   "id": "725fa904",
   "metadata": {},
   "outputs": [
    {
     "data": {
      "text/html": [
       "<div>\n",
       "<style scoped>\n",
       "    .dataframe tbody tr th:only-of-type {\n",
       "        vertical-align: middle;\n",
       "    }\n",
       "\n",
       "    .dataframe tbody tr th {\n",
       "        vertical-align: top;\n",
       "    }\n",
       "\n",
       "    .dataframe thead th {\n",
       "        text-align: right;\n",
       "    }\n",
       "</style>\n",
       "<table border=\"1\" class=\"dataframe\">\n",
       "  <thead>\n",
       "    <tr style=\"text-align: right;\">\n",
       "      <th></th>\n",
       "      <th>CHILDREN</th>\n",
       "      <th>Annual_income</th>\n",
       "      <th>Birthday_count</th>\n",
       "      <th>Employed_days</th>\n",
       "      <th>Family_Members</th>\n",
       "      <th>label</th>\n",
       "    </tr>\n",
       "  </thead>\n",
       "  <tbody>\n",
       "    <tr>\n",
       "      <th>count</th>\n",
       "      <td>1496.000000</td>\n",
       "      <td>1.496000e+03</td>\n",
       "      <td>1496.000000</td>\n",
       "      <td>1496.000000</td>\n",
       "      <td>1496.000000</td>\n",
       "      <td>1496.000000</td>\n",
       "    </tr>\n",
       "    <tr>\n",
       "      <th>mean</th>\n",
       "      <td>0.415775</td>\n",
       "      <td>1.907750e+05</td>\n",
       "      <td>-16036.192513</td>\n",
       "      <td>59290.681818</td>\n",
       "      <td>2.165107</td>\n",
       "      <td>0.106952</td>\n",
       "    </tr>\n",
       "    <tr>\n",
       "      <th>std</th>\n",
       "      <td>0.780784</td>\n",
       "      <td>1.131384e+05</td>\n",
       "      <td>4226.506557</td>\n",
       "      <td>137766.774169</td>\n",
       "      <td>0.951752</td>\n",
       "      <td>0.309155</td>\n",
       "    </tr>\n",
       "    <tr>\n",
       "      <th>min</th>\n",
       "      <td>0.000000</td>\n",
       "      <td>3.375000e+04</td>\n",
       "      <td>-24946.000000</td>\n",
       "      <td>-14887.000000</td>\n",
       "      <td>1.000000</td>\n",
       "      <td>0.000000</td>\n",
       "    </tr>\n",
       "    <tr>\n",
       "      <th>25%</th>\n",
       "      <td>0.000000</td>\n",
       "      <td>1.210500e+05</td>\n",
       "      <td>-19543.000000</td>\n",
       "      <td>-3229.250000</td>\n",
       "      <td>2.000000</td>\n",
       "      <td>0.000000</td>\n",
       "    </tr>\n",
       "    <tr>\n",
       "      <th>50%</th>\n",
       "      <td>0.000000</td>\n",
       "      <td>1.660500e+05</td>\n",
       "      <td>-15686.000000</td>\n",
       "      <td>-1575.500000</td>\n",
       "      <td>2.000000</td>\n",
       "      <td>0.000000</td>\n",
       "    </tr>\n",
       "    <tr>\n",
       "      <th>75%</th>\n",
       "      <td>1.000000</td>\n",
       "      <td>2.250000e+05</td>\n",
       "      <td>-12417.000000</td>\n",
       "      <td>-431.000000</td>\n",
       "      <td>3.000000</td>\n",
       "      <td>0.000000</td>\n",
       "    </tr>\n",
       "    <tr>\n",
       "      <th>max</th>\n",
       "      <td>14.000000</td>\n",
       "      <td>1.575000e+06</td>\n",
       "      <td>-7705.000000</td>\n",
       "      <td>365243.000000</td>\n",
       "      <td>15.000000</td>\n",
       "      <td>1.000000</td>\n",
       "    </tr>\n",
       "  </tbody>\n",
       "</table>\n",
       "</div>"
      ],
      "text/plain": [
       "          CHILDREN  Annual_income  Birthday_count  Employed_days  \\\n",
       "count  1496.000000   1.496000e+03     1496.000000    1496.000000   \n",
       "mean      0.415775   1.907750e+05   -16036.192513   59290.681818   \n",
       "std       0.780784   1.131384e+05     4226.506557  137766.774169   \n",
       "min       0.000000   3.375000e+04   -24946.000000  -14887.000000   \n",
       "25%       0.000000   1.210500e+05   -19543.000000   -3229.250000   \n",
       "50%       0.000000   1.660500e+05   -15686.000000   -1575.500000   \n",
       "75%       1.000000   2.250000e+05   -12417.000000    -431.000000   \n",
       "max      14.000000   1.575000e+06    -7705.000000  365243.000000   \n",
       "\n",
       "       Family_Members        label  \n",
       "count     1496.000000  1496.000000  \n",
       "mean         2.165107     0.106952  \n",
       "std          0.951752     0.309155  \n",
       "min          1.000000     0.000000  \n",
       "25%          2.000000     0.000000  \n",
       "50%          2.000000     0.000000  \n",
       "75%          3.000000     0.000000  \n",
       "max         15.000000     1.000000  "
      ]
     },
     "execution_count": 47,
     "metadata": {},
     "output_type": "execute_result"
    }
   ],
   "source": [
    "# Statistical attributes of each numerical column\n",
    "df4_nu1.describe()"
   ]
  },
  {
   "cell_type": "code",
   "execution_count": 48,
   "id": "50685333",
   "metadata": {},
   "outputs": [],
   "source": [
    "# To combine the columns of both data frames\n",
    "dfs=[df4_nu1,df4_cat2]\n",
    "df5=pd.concat(dfs, axis=1)"
   ]
  },
  {
   "cell_type": "code",
   "execution_count": 49,
   "id": "6ec49608",
   "metadata": {},
   "outputs": [
    {
     "data": {
      "text/html": [
       "<div>\n",
       "<style scoped>\n",
       "    .dataframe tbody tr th:only-of-type {\n",
       "        vertical-align: middle;\n",
       "    }\n",
       "\n",
       "    .dataframe tbody tr th {\n",
       "        vertical-align: top;\n",
       "    }\n",
       "\n",
       "    .dataframe thead th {\n",
       "        text-align: right;\n",
       "    }\n",
       "</style>\n",
       "<table border=\"1\" class=\"dataframe\">\n",
       "  <thead>\n",
       "    <tr style=\"text-align: right;\">\n",
       "      <th></th>\n",
       "      <th>CHILDREN</th>\n",
       "      <th>Annual_income</th>\n",
       "      <th>Birthday_count</th>\n",
       "      <th>Employed_days</th>\n",
       "      <th>Family_Members</th>\n",
       "      <th>label</th>\n",
       "      <th>GENDER</th>\n",
       "      <th>Car_Owner</th>\n",
       "      <th>Propert_Owner</th>\n",
       "      <th>Type_Income</th>\n",
       "      <th>EDUCATION</th>\n",
       "      <th>Marital_status</th>\n",
       "      <th>Housing_type</th>\n",
       "    </tr>\n",
       "  </thead>\n",
       "  <tbody>\n",
       "    <tr>\n",
       "      <th>0</th>\n",
       "      <td>0</td>\n",
       "      <td>180000.0</td>\n",
       "      <td>-18772.0</td>\n",
       "      <td>365243</td>\n",
       "      <td>2</td>\n",
       "      <td>1</td>\n",
       "      <td>1</td>\n",
       "      <td>1</td>\n",
       "      <td>1</td>\n",
       "      <td>0</td>\n",
       "      <td>0</td>\n",
       "      <td>0</td>\n",
       "      <td>1</td>\n",
       "    </tr>\n",
       "    <tr>\n",
       "      <th>1</th>\n",
       "      <td>0</td>\n",
       "      <td>315000.0</td>\n",
       "      <td>-13557.0</td>\n",
       "      <td>-586</td>\n",
       "      <td>2</td>\n",
       "      <td>1</td>\n",
       "      <td>0</td>\n",
       "      <td>1</td>\n",
       "      <td>0</td>\n",
       "      <td>1</td>\n",
       "      <td>0</td>\n",
       "      <td>0</td>\n",
       "      <td>1</td>\n",
       "    </tr>\n",
       "    <tr>\n",
       "      <th>4</th>\n",
       "      <td>0</td>\n",
       "      <td>315000.0</td>\n",
       "      <td>-13557.0</td>\n",
       "      <td>-586</td>\n",
       "      <td>2</td>\n",
       "      <td>1</td>\n",
       "      <td>0</td>\n",
       "      <td>1</td>\n",
       "      <td>0</td>\n",
       "      <td>1</td>\n",
       "      <td>0</td>\n",
       "      <td>0</td>\n",
       "      <td>1</td>\n",
       "    </tr>\n",
       "    <tr>\n",
       "      <th>6</th>\n",
       "      <td>0</td>\n",
       "      <td>315000.0</td>\n",
       "      <td>-13557.0</td>\n",
       "      <td>-586</td>\n",
       "      <td>2</td>\n",
       "      <td>1</td>\n",
       "      <td>0</td>\n",
       "      <td>1</td>\n",
       "      <td>0</td>\n",
       "      <td>1</td>\n",
       "      <td>0</td>\n",
       "      <td>0</td>\n",
       "      <td>1</td>\n",
       "    </tr>\n",
       "    <tr>\n",
       "      <th>7</th>\n",
       "      <td>0</td>\n",
       "      <td>180000.0</td>\n",
       "      <td>-22134.0</td>\n",
       "      <td>365243</td>\n",
       "      <td>2</td>\n",
       "      <td>1</td>\n",
       "      <td>0</td>\n",
       "      <td>0</td>\n",
       "      <td>0</td>\n",
       "      <td>0</td>\n",
       "      <td>2</td>\n",
       "      <td>0</td>\n",
       "      <td>1</td>\n",
       "    </tr>\n",
       "    <tr>\n",
       "      <th>...</th>\n",
       "      <td>...</td>\n",
       "      <td>...</td>\n",
       "      <td>...</td>\n",
       "      <td>...</td>\n",
       "      <td>...</td>\n",
       "      <td>...</td>\n",
       "      <td>...</td>\n",
       "      <td>...</td>\n",
       "      <td>...</td>\n",
       "      <td>...</td>\n",
       "      <td>...</td>\n",
       "      <td>...</td>\n",
       "      <td>...</td>\n",
       "    </tr>\n",
       "    <tr>\n",
       "      <th>1542</th>\n",
       "      <td>1</td>\n",
       "      <td>360000.0</td>\n",
       "      <td>-11294.0</td>\n",
       "      <td>-3536</td>\n",
       "      <td>3</td>\n",
       "      <td>0</td>\n",
       "      <td>1</td>\n",
       "      <td>1</td>\n",
       "      <td>0</td>\n",
       "      <td>1</td>\n",
       "      <td>2</td>\n",
       "      <td>0</td>\n",
       "      <td>1</td>\n",
       "    </tr>\n",
       "    <tr>\n",
       "      <th>1544</th>\n",
       "      <td>0</td>\n",
       "      <td>225000.0</td>\n",
       "      <td>-10229.0</td>\n",
       "      <td>-1209</td>\n",
       "      <td>1</td>\n",
       "      <td>0</td>\n",
       "      <td>0</td>\n",
       "      <td>0</td>\n",
       "      <td>0</td>\n",
       "      <td>1</td>\n",
       "      <td>2</td>\n",
       "      <td>2</td>\n",
       "      <td>1</td>\n",
       "    </tr>\n",
       "    <tr>\n",
       "      <th>1545</th>\n",
       "      <td>2</td>\n",
       "      <td>180000.0</td>\n",
       "      <td>-13174.0</td>\n",
       "      <td>-2477</td>\n",
       "      <td>4</td>\n",
       "      <td>0</td>\n",
       "      <td>1</td>\n",
       "      <td>1</td>\n",
       "      <td>1</td>\n",
       "      <td>1</td>\n",
       "      <td>0</td>\n",
       "      <td>0</td>\n",
       "      <td>1</td>\n",
       "    </tr>\n",
       "    <tr>\n",
       "      <th>1546</th>\n",
       "      <td>0</td>\n",
       "      <td>270000.0</td>\n",
       "      <td>-15292.0</td>\n",
       "      <td>-645</td>\n",
       "      <td>2</td>\n",
       "      <td>0</td>\n",
       "      <td>1</td>\n",
       "      <td>1</td>\n",
       "      <td>0</td>\n",
       "      <td>1</td>\n",
       "      <td>2</td>\n",
       "      <td>0</td>\n",
       "      <td>1</td>\n",
       "    </tr>\n",
       "    <tr>\n",
       "      <th>1547</th>\n",
       "      <td>0</td>\n",
       "      <td>225000.0</td>\n",
       "      <td>-16601.0</td>\n",
       "      <td>-2859</td>\n",
       "      <td>2</td>\n",
       "      <td>0</td>\n",
       "      <td>0</td>\n",
       "      <td>1</td>\n",
       "      <td>1</td>\n",
       "      <td>1</td>\n",
       "      <td>0</td>\n",
       "      <td>0</td>\n",
       "      <td>1</td>\n",
       "    </tr>\n",
       "  </tbody>\n",
       "</table>\n",
       "<p>1496 rows × 13 columns</p>\n",
       "</div>"
      ],
      "text/plain": [
       "      CHILDREN  Annual_income  Birthday_count  Employed_days  Family_Members  \\\n",
       "0            0       180000.0        -18772.0         365243               2   \n",
       "1            0       315000.0        -13557.0           -586               2   \n",
       "4            0       315000.0        -13557.0           -586               2   \n",
       "6            0       315000.0        -13557.0           -586               2   \n",
       "7            0       180000.0        -22134.0         365243               2   \n",
       "...        ...            ...             ...            ...             ...   \n",
       "1542         1       360000.0        -11294.0          -3536               3   \n",
       "1544         0       225000.0        -10229.0          -1209               1   \n",
       "1545         2       180000.0        -13174.0          -2477               4   \n",
       "1546         0       270000.0        -15292.0           -645               2   \n",
       "1547         0       225000.0        -16601.0          -2859               2   \n",
       "\n",
       "      label  GENDER  Car_Owner  Propert_Owner  Type_Income  EDUCATION  \\\n",
       "0         1       1          1              1            0          0   \n",
       "1         1       0          1              0            1          0   \n",
       "4         1       0          1              0            1          0   \n",
       "6         1       0          1              0            1          0   \n",
       "7         1       0          0              0            0          2   \n",
       "...     ...     ...        ...            ...          ...        ...   \n",
       "1542      0       1          1              0            1          2   \n",
       "1544      0       0          0              0            1          2   \n",
       "1545      0       1          1              1            1          0   \n",
       "1546      0       1          1              0            1          2   \n",
       "1547      0       0          1              1            1          0   \n",
       "\n",
       "      Marital_status  Housing_type  \n",
       "0                  0             1  \n",
       "1                  0             1  \n",
       "4                  0             1  \n",
       "6                  0             1  \n",
       "7                  0             1  \n",
       "...              ...           ...  \n",
       "1542               0             1  \n",
       "1544               2             1  \n",
       "1545               0             1  \n",
       "1546               0             1  \n",
       "1547               0             1  \n",
       "\n",
       "[1496 rows x 13 columns]"
      ]
     },
     "execution_count": 49,
     "metadata": {},
     "output_type": "execute_result"
    }
   ],
   "source": [
    "df5"
   ]
  },
  {
   "cell_type": "code",
   "execution_count": 50,
   "id": "510cbf7f",
   "metadata": {},
   "outputs": [
    {
     "data": {
      "application/vnd.jupyter.widget-view+json": {
       "model_id": "edac8227ead74fbc85a17a753668222b",
       "version_major": 2,
       "version_minor": 0
      },
      "text/plain": [
       "interactive(children=(Dropdown(description='col', options=('CHILDREN', 'Annual_income', 'Birthday_count', 'Emp…"
      ]
     },
     "metadata": {},
     "output_type": "display_data"
    }
   ],
   "source": [
    "@interact\n",
    "def cat_uniq(col=list(df5.columns)):\n",
    "    print(df5[col].unique())\n",
    "    #sns.plot(x=df4_cat1[col],hue=df4['label'], data= df4_cat1)"
   ]
  },
  {
   "cell_type": "code",
   "execution_count": 51,
   "id": "a67ad38d",
   "metadata": {},
   "outputs": [
    {
     "data": {
      "text/plain": [
       "<Axes: xlabel='CHILDREN', ylabel='Family_Members'>"
      ]
     },
     "execution_count": 51,
     "metadata": {},
     "output_type": "execute_result"
    },
    {
     "data": {
      "image/png": "[encoded data removed]",
      "text/plain": [
       "<Figure size 1500x1000 with 1 Axes>"
      ]
     },
     "metadata": {},
     "output_type": "display_data"
    }
   ],
   "source": [
    "# Relationship between Children and family members\n",
    "sns.scatterplot(x= df5['CHILDREN'], y=df5['Family_Members'], data=df5) # Scatter plot "
   ]
  },
  {
   "cell_type": "code",
   "execution_count": 52,
   "id": "31c4c6be",
   "metadata": {},
   "outputs": [
    {
     "data": {
      "text/html": [
       "<div>\n",
       "<style scoped>\n",
       "    .dataframe tbody tr th:only-of-type {\n",
       "        vertical-align: middle;\n",
       "    }\n",
       "\n",
       "    .dataframe tbody tr th {\n",
       "        vertical-align: top;\n",
       "    }\n",
       "\n",
       "    .dataframe thead th {\n",
       "        text-align: right;\n",
       "    }\n",
       "</style>\n",
       "<table border=\"1\" class=\"dataframe\">\n",
       "  <thead>\n",
       "    <tr style=\"text-align: right;\">\n",
       "      <th></th>\n",
       "      <th>CHILDREN</th>\n",
       "      <th>Annual_income</th>\n",
       "      <th>Birthday_count</th>\n",
       "      <th>Employed_days</th>\n",
       "      <th>Family_Members</th>\n",
       "      <th>label</th>\n",
       "      <th>GENDER</th>\n",
       "      <th>Car_Owner</th>\n",
       "      <th>Propert_Owner</th>\n",
       "      <th>Type_Income</th>\n",
       "      <th>EDUCATION</th>\n",
       "      <th>Marital_status</th>\n",
       "      <th>Housing_type</th>\n",
       "    </tr>\n",
       "  </thead>\n",
       "  <tbody>\n",
       "    <tr>\n",
       "      <th>565</th>\n",
       "      <td>14</td>\n",
       "      <td>225000.0</td>\n",
       "      <td>-17754.0</td>\n",
       "      <td>-1689</td>\n",
       "      <td>15</td>\n",
       "      <td>0</td>\n",
       "      <td>1</td>\n",
       "      <td>1</td>\n",
       "      <td>1</td>\n",
       "      <td>1</td>\n",
       "      <td>2</td>\n",
       "      <td>1</td>\n",
       "      <td>1</td>\n",
       "    </tr>\n",
       "  </tbody>\n",
       "</table>\n",
       "</div>"
      ],
      "text/plain": [
       "     CHILDREN  Annual_income  Birthday_count  Employed_days  Family_Members  \\\n",
       "565        14       225000.0        -17754.0          -1689              15   \n",
       "\n",
       "     label  GENDER  Car_Owner  Propert_Owner  Type_Income  EDUCATION  \\\n",
       "565      0       1          1              1            1          2   \n",
       "\n",
       "     Marital_status  Housing_type  \n",
       "565               1             1  "
      ]
     },
     "execution_count": 52,
     "metadata": {},
     "output_type": "execute_result"
    }
   ],
   "source": [
    "# rows having number of children more than 4\n",
    "df5[df5['CHILDREN']>4]"
   ]
  },
  {
   "cell_type": "markdown",
   "id": "fe9f5e02",
   "metadata": {},
   "source": [
    "It appears rare case of family with 14 childrens. To overcome outlier error and enhance data modeling and accuracy, it is removed from table"
   ]
  },
  {
   "cell_type": "code",
   "execution_count": 53,
   "id": "c7687ed9",
   "metadata": {},
   "outputs": [],
   "source": [
    "#Removing row from dataframe \n",
    "df6=df5[~(df5['CHILDREN']>4)]"
   ]
  },
  {
   "cell_type": "code",
   "execution_count": 54,
   "id": "2de24e46",
   "metadata": {},
   "outputs": [
    {
     "name": "stdout",
     "output_type": "stream",
     "text": [
      "df5: (1496, 13)\n",
      "df6: (1495, 13)\n"
     ]
    }
   ],
   "source": [
    "print('df5:',df5.shape)\n",
    "print('df6:',df6.shape)"
   ]
  },
  {
   "cell_type": "code",
   "execution_count": 55,
   "id": "f08fd260",
   "metadata": {},
   "outputs": [
    {
     "name": "stderr",
     "output_type": "stream",
     "text": [
      "C:\\Users\\PATIL\\AppData\\Local\\Temp\\ipykernel_1164\\338460599.py:2: SettingWithCopyWarning: \n",
      "A value is trying to be set on a copy of a slice from a DataFrame.\n",
      "Try using .loc[row_indexer,col_indexer] = value instead\n",
      "\n",
      "See the caveats in the documentation: https://pandas.pydata.org/pandas-docs/stable/user_guide/indexing.html#returning-a-view-versus-a-copy\n",
      "  df6['age']=round(df6['Birthday_count']/365*-1, 0) # converts number of days into years\n"
     ]
    }
   ],
   "source": [
    "# Create a new column 'age' from 'birthday_count' column\n",
    "df6['age']=round(df6['Birthday_count']/365*-1, 0) # converts number of days into years"
   ]
  },
  {
   "cell_type": "code",
   "execution_count": 56,
   "id": "7bef83d3",
   "metadata": {},
   "outputs": [
    {
     "data": {
      "text/plain": [
       "array([51., 37., 61., 50., 52., 24., 46., 35., 33., 49., 44., 43., 60.,\n",
       "       55., 29., 36., 56., 58., 65., 53., 64., 42., 30., 32., 26., 28.,\n",
       "       45., 67., 25., 57., 59., 38., 31., 40., 34., 47., 41., 63., 54.,\n",
       "       48., 62., 27., 39., 66., 23., 68., 22., 21.])"
      ]
     },
     "execution_count": 56,
     "metadata": {},
     "output_type": "execute_result"
    }
   ],
   "source": [
    "df6['age'].unique() # distinct ages in column"
   ]
  },
  {
   "cell_type": "code",
   "execution_count": 57,
   "id": "271a6d04",
   "metadata": {},
   "outputs": [
    {
     "data": {
      "image/png": "[encoded data removed]",
      "text/plain": [
       "<Figure size 2000x1500 with 1 Axes>"
      ]
     },
     "metadata": {},
     "output_type": "display_data"
    }
   ],
   "source": [
    "plt.figure(figsize=(20,15))\n",
    "sns.countplot(x=df6['age'], hue=df6['label'], data=df6)\n",
    "\n",
    "plt.show()"
   ]
  },
  {
   "cell_type": "code",
   "execution_count": 58,
   "id": "12882eba",
   "metadata": {},
   "outputs": [
    {
     "data": {
      "text/plain": [
       "array([365243], dtype=int64)"
      ]
     },
     "execution_count": 58,
     "metadata": {},
     "output_type": "execute_result"
    }
   ],
   "source": [
    "df6[df6['Employed_days']>0]['Employed_days'].unique()"
   ]
  },
  {
   "cell_type": "code",
   "execution_count": 59,
   "id": "61883693",
   "metadata": {},
   "outputs": [
    {
     "name": "stderr",
     "output_type": "stream",
     "text": [
      "C:\\Users\\PATIL\\AppData\\Local\\Temp\\ipykernel_1164\\2430326342.py:2: SettingWithCopyWarning: \n",
      "A value is trying to be set on a copy of a slice from a DataFrame.\n",
      "Try using .loc[row_indexer,col_indexer] = value instead\n",
      "\n",
      "See the caveats in the documentation: https://pandas.pydata.org/pandas-docs/stable/user_guide/indexing.html#returning-a-view-versus-a-copy\n",
      "  df6['Experience']=np.where(df6['Employed_days']>0, 0, exp)\n"
     ]
    }
   ],
   "source": [
    "exp= round(df6['Employed_days']/365*-1,0)\n",
    "df6['Experience']=np.where(df6['Employed_days']>0, 0, exp)"
   ]
  },
  {
   "cell_type": "code",
   "execution_count": 60,
   "id": "669d5c46",
   "metadata": {},
   "outputs": [
    {
     "data": {
      "text/plain": [
       "array([ 0.,  2.,  3.,  1.,  7.,  5., 12., 13., 10.,  4., 20.,  6., 11.,\n",
       "        9., 23.,  8., 14., 19., 22., 21., 17., 26., 24., 15., 16., 34.,\n",
       "       37., 27., 41., 35., 18., 31., 32., 25., 29., 38., 33., 28., 36.])"
      ]
     },
     "execution_count": 60,
     "metadata": {},
     "output_type": "execute_result"
    }
   ],
   "source": [
    "df6['Experience'].unique()"
   ]
  },
  {
   "cell_type": "code",
   "execution_count": 61,
   "id": "602af4b0",
   "metadata": {},
   "outputs": [
    {
     "data": {
      "image/png": "[encoded data removed]",
      "text/plain": [
       "<Figure size 2000x1500 with 1 Axes>"
      ]
     },
     "metadata": {},
     "output_type": "display_data"
    }
   ],
   "source": [
    "plt.figure(figsize=(20,15))\n",
    "sns.countplot(x=df6['Experience'], hue=df6['label'], data=df6)\n",
    "\n",
    "plt.show()"
   ]
  },
  {
   "cell_type": "code",
   "execution_count": 62,
   "id": "3891bc8c",
   "metadata": {},
   "outputs": [
    {
     "data": {
      "text/html": [
       "<div>\n",
       "<style scoped>\n",
       "    .dataframe tbody tr th:only-of-type {\n",
       "        vertical-align: middle;\n",
       "    }\n",
       "\n",
       "    .dataframe tbody tr th {\n",
       "        vertical-align: top;\n",
       "    }\n",
       "\n",
       "    .dataframe thead th {\n",
       "        text-align: right;\n",
       "    }\n",
       "</style>\n",
       "<table border=\"1\" class=\"dataframe\">\n",
       "  <thead>\n",
       "    <tr style=\"text-align: right;\">\n",
       "      <th></th>\n",
       "      <th>CHILDREN</th>\n",
       "      <th>Annual_income</th>\n",
       "      <th>Birthday_count</th>\n",
       "      <th>Employed_days</th>\n",
       "      <th>Family_Members</th>\n",
       "      <th>label</th>\n",
       "      <th>GENDER</th>\n",
       "      <th>Car_Owner</th>\n",
       "      <th>Propert_Owner</th>\n",
       "      <th>Type_Income</th>\n",
       "      <th>EDUCATION</th>\n",
       "      <th>Marital_status</th>\n",
       "      <th>Housing_type</th>\n",
       "      <th>age</th>\n",
       "      <th>Experience</th>\n",
       "    </tr>\n",
       "  </thead>\n",
       "  <tbody>\n",
       "    <tr>\n",
       "      <th>0</th>\n",
       "      <td>0</td>\n",
       "      <td>180000.0</td>\n",
       "      <td>-18772.0</td>\n",
       "      <td>365243</td>\n",
       "      <td>2</td>\n",
       "      <td>1</td>\n",
       "      <td>1</td>\n",
       "      <td>1</td>\n",
       "      <td>1</td>\n",
       "      <td>0</td>\n",
       "      <td>0</td>\n",
       "      <td>0</td>\n",
       "      <td>1</td>\n",
       "      <td>51.0</td>\n",
       "      <td>0.0</td>\n",
       "    </tr>\n",
       "    <tr>\n",
       "      <th>1</th>\n",
       "      <td>0</td>\n",
       "      <td>315000.0</td>\n",
       "      <td>-13557.0</td>\n",
       "      <td>-586</td>\n",
       "      <td>2</td>\n",
       "      <td>1</td>\n",
       "      <td>0</td>\n",
       "      <td>1</td>\n",
       "      <td>0</td>\n",
       "      <td>1</td>\n",
       "      <td>0</td>\n",
       "      <td>0</td>\n",
       "      <td>1</td>\n",
       "      <td>37.0</td>\n",
       "      <td>2.0</td>\n",
       "    </tr>\n",
       "    <tr>\n",
       "      <th>4</th>\n",
       "      <td>0</td>\n",
       "      <td>315000.0</td>\n",
       "      <td>-13557.0</td>\n",
       "      <td>-586</td>\n",
       "      <td>2</td>\n",
       "      <td>1</td>\n",
       "      <td>0</td>\n",
       "      <td>1</td>\n",
       "      <td>0</td>\n",
       "      <td>1</td>\n",
       "      <td>0</td>\n",
       "      <td>0</td>\n",
       "      <td>1</td>\n",
       "      <td>37.0</td>\n",
       "      <td>2.0</td>\n",
       "    </tr>\n",
       "    <tr>\n",
       "      <th>6</th>\n",
       "      <td>0</td>\n",
       "      <td>315000.0</td>\n",
       "      <td>-13557.0</td>\n",
       "      <td>-586</td>\n",
       "      <td>2</td>\n",
       "      <td>1</td>\n",
       "      <td>0</td>\n",
       "      <td>1</td>\n",
       "      <td>0</td>\n",
       "      <td>1</td>\n",
       "      <td>0</td>\n",
       "      <td>0</td>\n",
       "      <td>1</td>\n",
       "      <td>37.0</td>\n",
       "      <td>2.0</td>\n",
       "    </tr>\n",
       "    <tr>\n",
       "      <th>7</th>\n",
       "      <td>0</td>\n",
       "      <td>180000.0</td>\n",
       "      <td>-22134.0</td>\n",
       "      <td>365243</td>\n",
       "      <td>2</td>\n",
       "      <td>1</td>\n",
       "      <td>0</td>\n",
       "      <td>0</td>\n",
       "      <td>0</td>\n",
       "      <td>0</td>\n",
       "      <td>2</td>\n",
       "      <td>0</td>\n",
       "      <td>1</td>\n",
       "      <td>61.0</td>\n",
       "      <td>0.0</td>\n",
       "    </tr>\n",
       "  </tbody>\n",
       "</table>\n",
       "</div>"
      ],
      "text/plain": [
       "   CHILDREN  Annual_income  Birthday_count  Employed_days  Family_Members  \\\n",
       "0         0       180000.0        -18772.0         365243               2   \n",
       "1         0       315000.0        -13557.0           -586               2   \n",
       "4         0       315000.0        -13557.0           -586               2   \n",
       "6         0       315000.0        -13557.0           -586               2   \n",
       "7         0       180000.0        -22134.0         365243               2   \n",
       "\n",
       "   label  GENDER  Car_Owner  Propert_Owner  Type_Income  EDUCATION  \\\n",
       "0      1       1          1              1            0          0   \n",
       "1      1       0          1              0            1          0   \n",
       "4      1       0          1              0            1          0   \n",
       "6      1       0          1              0            1          0   \n",
       "7      1       0          0              0            0          2   \n",
       "\n",
       "   Marital_status  Housing_type   age  Experience  \n",
       "0               0             1  51.0         0.0  \n",
       "1               0             1  37.0         2.0  \n",
       "4               0             1  37.0         2.0  \n",
       "6               0             1  37.0         2.0  \n",
       "7               0             1  61.0         0.0  "
      ]
     },
     "execution_count": 62,
     "metadata": {},
     "output_type": "execute_result"
    }
   ],
   "source": [
    "df6.head()"
   ]
  },
  {
   "cell_type": "code",
   "execution_count": 63,
   "id": "f4a44f7e",
   "metadata": {},
   "outputs": [
    {
     "data": {
      "text/plain": [
       "Index(['CHILDREN', 'Annual_income', 'Birthday_count', 'Employed_days',\n",
       "       'Family_Members', 'label', 'GENDER', 'Car_Owner', 'Propert_Owner',\n",
       "       'Type_Income', 'EDUCATION', 'Marital_status', 'Housing_type', 'age',\n",
       "       'Experience'],\n",
       "      dtype='object')"
      ]
     },
     "execution_count": 63,
     "metadata": {},
     "output_type": "execute_result"
    }
   ],
   "source": [
    "df7=df6.copy()\n",
    "df7.columns"
   ]
  },
  {
   "cell_type": "code",
   "execution_count": 64,
   "id": "fe688de3",
   "metadata": {},
   "outputs": [],
   "source": [
    "# removing columns'Birthday_count' and 'Employed_days' from table\n",
    "df7.drop(['Birthday_count', 'Employed_days'], axis=1, inplace=True)"
   ]
  },
  {
   "cell_type": "code",
   "execution_count": 65,
   "id": "44788d63",
   "metadata": {},
   "outputs": [
    {
     "data": {
      "text/html": [
       "<div>\n",
       "<style scoped>\n",
       "    .dataframe tbody tr th:only-of-type {\n",
       "        vertical-align: middle;\n",
       "    }\n",
       "\n",
       "    .dataframe tbody tr th {\n",
       "        vertical-align: top;\n",
       "    }\n",
       "\n",
       "    .dataframe thead th {\n",
       "        text-align: right;\n",
       "    }\n",
       "</style>\n",
       "<table border=\"1\" class=\"dataframe\">\n",
       "  <thead>\n",
       "    <tr style=\"text-align: right;\">\n",
       "      <th></th>\n",
       "      <th>CHILDREN</th>\n",
       "      <th>Annual_income</th>\n",
       "      <th>Family_Members</th>\n",
       "      <th>label</th>\n",
       "      <th>GENDER</th>\n",
       "      <th>Car_Owner</th>\n",
       "      <th>Propert_Owner</th>\n",
       "      <th>Type_Income</th>\n",
       "      <th>EDUCATION</th>\n",
       "      <th>Marital_status</th>\n",
       "      <th>Housing_type</th>\n",
       "      <th>age</th>\n",
       "      <th>Experience</th>\n",
       "    </tr>\n",
       "  </thead>\n",
       "  <tbody>\n",
       "    <tr>\n",
       "      <th>0</th>\n",
       "      <td>0</td>\n",
       "      <td>180000.0</td>\n",
       "      <td>2</td>\n",
       "      <td>1</td>\n",
       "      <td>1</td>\n",
       "      <td>1</td>\n",
       "      <td>1</td>\n",
       "      <td>0</td>\n",
       "      <td>0</td>\n",
       "      <td>0</td>\n",
       "      <td>1</td>\n",
       "      <td>51.0</td>\n",
       "      <td>0.0</td>\n",
       "    </tr>\n",
       "    <tr>\n",
       "      <th>1</th>\n",
       "      <td>0</td>\n",
       "      <td>315000.0</td>\n",
       "      <td>2</td>\n",
       "      <td>1</td>\n",
       "      <td>0</td>\n",
       "      <td>1</td>\n",
       "      <td>0</td>\n",
       "      <td>1</td>\n",
       "      <td>0</td>\n",
       "      <td>0</td>\n",
       "      <td>1</td>\n",
       "      <td>37.0</td>\n",
       "      <td>2.0</td>\n",
       "    </tr>\n",
       "    <tr>\n",
       "      <th>4</th>\n",
       "      <td>0</td>\n",
       "      <td>315000.0</td>\n",
       "      <td>2</td>\n",
       "      <td>1</td>\n",
       "      <td>0</td>\n",
       "      <td>1</td>\n",
       "      <td>0</td>\n",
       "      <td>1</td>\n",
       "      <td>0</td>\n",
       "      <td>0</td>\n",
       "      <td>1</td>\n",
       "      <td>37.0</td>\n",
       "      <td>2.0</td>\n",
       "    </tr>\n",
       "    <tr>\n",
       "      <th>6</th>\n",
       "      <td>0</td>\n",
       "      <td>315000.0</td>\n",
       "      <td>2</td>\n",
       "      <td>1</td>\n",
       "      <td>0</td>\n",
       "      <td>1</td>\n",
       "      <td>0</td>\n",
       "      <td>1</td>\n",
       "      <td>0</td>\n",
       "      <td>0</td>\n",
       "      <td>1</td>\n",
       "      <td>37.0</td>\n",
       "      <td>2.0</td>\n",
       "    </tr>\n",
       "    <tr>\n",
       "      <th>7</th>\n",
       "      <td>0</td>\n",
       "      <td>180000.0</td>\n",
       "      <td>2</td>\n",
       "      <td>1</td>\n",
       "      <td>0</td>\n",
       "      <td>0</td>\n",
       "      <td>0</td>\n",
       "      <td>0</td>\n",
       "      <td>2</td>\n",
       "      <td>0</td>\n",
       "      <td>1</td>\n",
       "      <td>61.0</td>\n",
       "      <td>0.0</td>\n",
       "    </tr>\n",
       "  </tbody>\n",
       "</table>\n",
       "</div>"
      ],
      "text/plain": [
       "   CHILDREN  Annual_income  Family_Members  label  GENDER  Car_Owner  \\\n",
       "0         0       180000.0               2      1       1          1   \n",
       "1         0       315000.0               2      1       0          1   \n",
       "4         0       315000.0               2      1       0          1   \n",
       "6         0       315000.0               2      1       0          1   \n",
       "7         0       180000.0               2      1       0          0   \n",
       "\n",
       "   Propert_Owner  Type_Income  EDUCATION  Marital_status  Housing_type   age  \\\n",
       "0              1            0          0               0             1  51.0   \n",
       "1              0            1          0               0             1  37.0   \n",
       "4              0            1          0               0             1  37.0   \n",
       "6              0            1          0               0             1  37.0   \n",
       "7              0            0          2               0             1  61.0   \n",
       "\n",
       "   Experience  \n",
       "0         0.0  \n",
       "1         2.0  \n",
       "4         2.0  \n",
       "6         2.0  \n",
       "7         0.0  "
      ]
     },
     "execution_count": 65,
     "metadata": {},
     "output_type": "execute_result"
    }
   ],
   "source": [
    "df7.head()"
   ]
  },
  {
   "cell_type": "code",
   "execution_count": 66,
   "id": "e1ce1b48",
   "metadata": {},
   "outputs": [
    {
     "data": {
      "application/vnd.jupyter.widget-view+json": {
       "model_id": "615e0425c1fb40b6a868fa467e06f6dd",
       "version_major": 2,
       "version_minor": 0
      },
      "text/plain": [
       "interactive(children=(Dropdown(description='col', options=('CHILDREN', 'Annual_income', 'Family_Members', 'age…"
      ]
     },
     "metadata": {},
     "output_type": "display_data"
    }
   ],
   "source": [
    "cols= ['CHILDREN', 'Annual_income','Family_Members','age','Experience']\n",
    "@interact\n",
    "def cat_uniq(col=cols):\n",
    "    sns.boxplot(df7[col])"
   ]
  },
  {
   "cell_type": "code",
   "execution_count": 67,
   "id": "f245a27c",
   "metadata": {},
   "outputs": [
    {
     "data": {
      "application/vnd.jupyter.widget-view+json": {
       "model_id": "f2d9c597503949ae8ce41f2ec75511c5",
       "version_major": 2,
       "version_minor": 0
      },
      "text/plain": [
       "interactive(children=(Dropdown(description='col', options=('CHILDREN', 'Annual_income', 'Family_Members', 'age…"
      ]
     },
     "metadata": {},
     "output_type": "display_data"
    }
   ],
   "source": [
    "cols= ['CHILDREN', 'Annual_income','Family_Members','age','Experience']\n",
    "@interact\n",
    "def cat_uniq(col=cols):\n",
    "    sns.distplot(df7[col]) # Checking the distibution of values in each column"
   ]
  },
  {
   "cell_type": "markdown",
   "id": "5d2dba20",
   "metadata": {},
   "source": [
    "# Data transformation of values to obtain normal distribution "
   ]
  },
  {
   "cell_type": "code",
   "execution_count": 68,
   "id": "f7665141",
   "metadata": {},
   "outputs": [],
   "source": [
    "df8=df7.copy()"
   ]
  },
  {
   "cell_type": "code",
   "execution_count": 69,
   "id": "22e70dd1",
   "metadata": {},
   "outputs": [
    {
     "name": "stderr",
     "output_type": "stream",
     "text": [
      "C:\\Users\\PATIL\\AppData\\Local\\Temp\\ipykernel_1164\\2042166957.py:2: UserWarning: \n",
      "\n",
      "`distplot` is a deprecated function and will be removed in seaborn v0.14.0.\n",
      "\n",
      "Please adapt your code to use either `displot` (a figure-level function with\n",
      "similar flexibility) or `histplot` (an axes-level function for histograms).\n",
      "\n",
      "For a guide to updating your code to use the new functions, please see\n",
      "https://gist.github.com/mwaskom/de44147ed2974457ad6372750bbe5751\n",
      "\n",
      "  sns.distplot(df8['children_sqrt'])\n"
     ]
    },
    {
     "data": {
      "text/plain": [
       "<Axes: xlabel='children_sqrt', ylabel='Density'>"
      ]
     },
     "execution_count": 69,
     "metadata": {},
     "output_type": "execute_result"
    },
    {
     "data": {
      "image/png": "[encoded data removed]",
      "text/plain": [
       "<Figure size 1500x1000 with 1 Axes>"
      ]
     },
     "metadata": {},
     "output_type": "display_data"
    }
   ],
   "source": [
    "df8['children_sqrt']=np.sqrt(df8['CHILDREN'])\n",
    "sns.distplot(df8['children_sqrt'])"
   ]
  },
  {
   "cell_type": "code",
   "execution_count": 70,
   "id": "d44290f2",
   "metadata": {},
   "outputs": [
    {
     "name": "stderr",
     "output_type": "stream",
     "text": [
      "C:\\Users\\PATIL\\AppData\\Local\\Temp\\ipykernel_1164\\1733557578.py:2: UserWarning: \n",
      "\n",
      "`distplot` is a deprecated function and will be removed in seaborn v0.14.0.\n",
      "\n",
      "Please adapt your code to use either `displot` (a figure-level function with\n",
      "similar flexibility) or `histplot` (an axes-level function for histograms).\n",
      "\n",
      "For a guide to updating your code to use the new functions, please see\n",
      "https://gist.github.com/mwaskom/de44147ed2974457ad6372750bbe5751\n",
      "\n",
      "  sns.distplot(df8['fa_sqrt'])\n"
     ]
    },
    {
     "data": {
      "text/plain": [
       "<Axes: xlabel='fa_sqrt', ylabel='Density'>"
      ]
     },
     "execution_count": 70,
     "metadata": {},
     "output_type": "execute_result"
    },
    {
     "data": {
      "image/png": "[encoded data removed]",
      "text/plain": [
       "<Figure size 1500x1000 with 1 Axes>"
      ]
     },
     "metadata": {},
     "output_type": "display_data"
    }
   ],
   "source": [
    "df8['fa_sqrt']=np.sqrt(df8['Family_Members'])\n",
    "sns.distplot(df8['fa_sqrt'])"
   ]
  },
  {
   "cell_type": "code",
   "execution_count": 71,
   "id": "921312d5",
   "metadata": {},
   "outputs": [],
   "source": [
    "# Square root transformation of annual income column for converting to normal distribution of values\n",
    "df8['Annual_income_sqrt']=np.sqrt(df8['Annual_income'])"
   ]
  },
  {
   "cell_type": "code",
   "execution_count": 72,
   "id": "74ecbce7",
   "metadata": {},
   "outputs": [
    {
     "name": "stderr",
     "output_type": "stream",
     "text": [
      "C:\\Users\\PATIL\\AppData\\Local\\Temp\\ipykernel_1164\\190871777.py:1: UserWarning: \n",
      "\n",
      "`distplot` is a deprecated function and will be removed in seaborn v0.14.0.\n",
      "\n",
      "Please adapt your code to use either `displot` (a figure-level function with\n",
      "similar flexibility) or `histplot` (an axes-level function for histograms).\n",
      "\n",
      "For a guide to updating your code to use the new functions, please see\n",
      "https://gist.github.com/mwaskom/de44147ed2974457ad6372750bbe5751\n",
      "\n",
      "  sns.distplot(df8['Annual_income_sqrt'])\n"
     ]
    },
    {
     "data": {
      "text/plain": [
       "<Axes: xlabel='Annual_income_sqrt', ylabel='Density'>"
      ]
     },
     "execution_count": 72,
     "metadata": {},
     "output_type": "execute_result"
    },
    {
     "data": {
      "image/png": "[encoded data removed]",
      "text/plain": [
       "<Figure size 1500x1000 with 1 Axes>"
      ]
     },
     "metadata": {},
     "output_type": "display_data"
    }
   ],
   "source": [
    "sns.distplot(df8['Annual_income_sqrt'])"
   ]
  },
  {
   "cell_type": "code",
   "execution_count": 73,
   "id": "231bdb25",
   "metadata": {},
   "outputs": [
    {
     "data": {
      "text/html": [
       "<div>\n",
       "<style scoped>\n",
       "    .dataframe tbody tr th:only-of-type {\n",
       "        vertical-align: middle;\n",
       "    }\n",
       "\n",
       "    .dataframe tbody tr th {\n",
       "        vertical-align: top;\n",
       "    }\n",
       "\n",
       "    .dataframe thead th {\n",
       "        text-align: right;\n",
       "    }\n",
       "</style>\n",
       "<table border=\"1\" class=\"dataframe\">\n",
       "  <thead>\n",
       "    <tr style=\"text-align: right;\">\n",
       "      <th></th>\n",
       "      <th>CHILDREN</th>\n",
       "      <th>Annual_income</th>\n",
       "      <th>Family_Members</th>\n",
       "      <th>label</th>\n",
       "      <th>GENDER</th>\n",
       "      <th>Car_Owner</th>\n",
       "      <th>Propert_Owner</th>\n",
       "      <th>Type_Income</th>\n",
       "      <th>EDUCATION</th>\n",
       "      <th>Marital_status</th>\n",
       "      <th>Housing_type</th>\n",
       "      <th>age</th>\n",
       "      <th>Experience</th>\n",
       "      <th>children_sqrt</th>\n",
       "      <th>fa_sqrt</th>\n",
       "      <th>Annual_income_sqrt</th>\n",
       "    </tr>\n",
       "  </thead>\n",
       "  <tbody>\n",
       "    <tr>\n",
       "      <th>0</th>\n",
       "      <td>0</td>\n",
       "      <td>180000.0</td>\n",
       "      <td>2</td>\n",
       "      <td>1</td>\n",
       "      <td>1</td>\n",
       "      <td>1</td>\n",
       "      <td>1</td>\n",
       "      <td>0</td>\n",
       "      <td>0</td>\n",
       "      <td>0</td>\n",
       "      <td>1</td>\n",
       "      <td>51.0</td>\n",
       "      <td>0.0</td>\n",
       "      <td>0.0</td>\n",
       "      <td>1.414214</td>\n",
       "      <td>424.264069</td>\n",
       "    </tr>\n",
       "    <tr>\n",
       "      <th>1</th>\n",
       "      <td>0</td>\n",
       "      <td>315000.0</td>\n",
       "      <td>2</td>\n",
       "      <td>1</td>\n",
       "      <td>0</td>\n",
       "      <td>1</td>\n",
       "      <td>0</td>\n",
       "      <td>1</td>\n",
       "      <td>0</td>\n",
       "      <td>0</td>\n",
       "      <td>1</td>\n",
       "      <td>37.0</td>\n",
       "      <td>2.0</td>\n",
       "      <td>0.0</td>\n",
       "      <td>1.414214</td>\n",
       "      <td>561.248608</td>\n",
       "    </tr>\n",
       "    <tr>\n",
       "      <th>4</th>\n",
       "      <td>0</td>\n",
       "      <td>315000.0</td>\n",
       "      <td>2</td>\n",
       "      <td>1</td>\n",
       "      <td>0</td>\n",
       "      <td>1</td>\n",
       "      <td>0</td>\n",
       "      <td>1</td>\n",
       "      <td>0</td>\n",
       "      <td>0</td>\n",
       "      <td>1</td>\n",
       "      <td>37.0</td>\n",
       "      <td>2.0</td>\n",
       "      <td>0.0</td>\n",
       "      <td>1.414214</td>\n",
       "      <td>561.248608</td>\n",
       "    </tr>\n",
       "    <tr>\n",
       "      <th>6</th>\n",
       "      <td>0</td>\n",
       "      <td>315000.0</td>\n",
       "      <td>2</td>\n",
       "      <td>1</td>\n",
       "      <td>0</td>\n",
       "      <td>1</td>\n",
       "      <td>0</td>\n",
       "      <td>1</td>\n",
       "      <td>0</td>\n",
       "      <td>0</td>\n",
       "      <td>1</td>\n",
       "      <td>37.0</td>\n",
       "      <td>2.0</td>\n",
       "      <td>0.0</td>\n",
       "      <td>1.414214</td>\n",
       "      <td>561.248608</td>\n",
       "    </tr>\n",
       "    <tr>\n",
       "      <th>7</th>\n",
       "      <td>0</td>\n",
       "      <td>180000.0</td>\n",
       "      <td>2</td>\n",
       "      <td>1</td>\n",
       "      <td>0</td>\n",
       "      <td>0</td>\n",
       "      <td>0</td>\n",
       "      <td>0</td>\n",
       "      <td>2</td>\n",
       "      <td>0</td>\n",
       "      <td>1</td>\n",
       "      <td>61.0</td>\n",
       "      <td>0.0</td>\n",
       "      <td>0.0</td>\n",
       "      <td>1.414214</td>\n",
       "      <td>424.264069</td>\n",
       "    </tr>\n",
       "  </tbody>\n",
       "</table>\n",
       "</div>"
      ],
      "text/plain": [
       "   CHILDREN  Annual_income  Family_Members  label  GENDER  Car_Owner  \\\n",
       "0         0       180000.0               2      1       1          1   \n",
       "1         0       315000.0               2      1       0          1   \n",
       "4         0       315000.0               2      1       0          1   \n",
       "6         0       315000.0               2      1       0          1   \n",
       "7         0       180000.0               2      1       0          0   \n",
       "\n",
       "   Propert_Owner  Type_Income  EDUCATION  Marital_status  Housing_type   age  \\\n",
       "0              1            0          0               0             1  51.0   \n",
       "1              0            1          0               0             1  37.0   \n",
       "4              0            1          0               0             1  37.0   \n",
       "6              0            1          0               0             1  37.0   \n",
       "7              0            0          2               0             1  61.0   \n",
       "\n",
       "   Experience  children_sqrt   fa_sqrt  Annual_income_sqrt  \n",
       "0         0.0            0.0  1.414214          424.264069  \n",
       "1         2.0            0.0  1.414214          561.248608  \n",
       "4         2.0            0.0  1.414214          561.248608  \n",
       "6         2.0            0.0  1.414214          561.248608  \n",
       "7         0.0            0.0  1.414214          424.264069  "
      ]
     },
     "execution_count": 73,
     "metadata": {},
     "output_type": "execute_result"
    }
   ],
   "source": [
    "df8.head()"
   ]
  },
  {
   "cell_type": "code",
   "execution_count": 74,
   "id": "8dbaf013",
   "metadata": {},
   "outputs": [],
   "source": [
    "df9=df8.drop(['Annual_income','CHILDREN', 'Family_Members'], axis=1)"
   ]
  },
  {
   "cell_type": "code",
   "execution_count": 75,
   "id": "7234c22e",
   "metadata": {},
   "outputs": [
    {
     "data": {
      "text/html": [
       "<div>\n",
       "<style scoped>\n",
       "    .dataframe tbody tr th:only-of-type {\n",
       "        vertical-align: middle;\n",
       "    }\n",
       "\n",
       "    .dataframe tbody tr th {\n",
       "        vertical-align: top;\n",
       "    }\n",
       "\n",
       "    .dataframe thead th {\n",
       "        text-align: right;\n",
       "    }\n",
       "</style>\n",
       "<table border=\"1\" class=\"dataframe\">\n",
       "  <thead>\n",
       "    <tr style=\"text-align: right;\">\n",
       "      <th></th>\n",
       "      <th>label</th>\n",
       "      <th>GENDER</th>\n",
       "      <th>Car_Owner</th>\n",
       "      <th>Propert_Owner</th>\n",
       "      <th>Type_Income</th>\n",
       "      <th>EDUCATION</th>\n",
       "      <th>Marital_status</th>\n",
       "      <th>Housing_type</th>\n",
       "      <th>age</th>\n",
       "      <th>Experience</th>\n",
       "      <th>children_sqrt</th>\n",
       "      <th>fa_sqrt</th>\n",
       "      <th>Annual_income_sqrt</th>\n",
       "    </tr>\n",
       "  </thead>\n",
       "  <tbody>\n",
       "    <tr>\n",
       "      <th>0</th>\n",
       "      <td>1</td>\n",
       "      <td>1</td>\n",
       "      <td>1</td>\n",
       "      <td>1</td>\n",
       "      <td>0</td>\n",
       "      <td>0</td>\n",
       "      <td>0</td>\n",
       "      <td>1</td>\n",
       "      <td>51.0</td>\n",
       "      <td>0.0</td>\n",
       "      <td>0.0</td>\n",
       "      <td>1.414214</td>\n",
       "      <td>424.264069</td>\n",
       "    </tr>\n",
       "    <tr>\n",
       "      <th>1</th>\n",
       "      <td>1</td>\n",
       "      <td>0</td>\n",
       "      <td>1</td>\n",
       "      <td>0</td>\n",
       "      <td>1</td>\n",
       "      <td>0</td>\n",
       "      <td>0</td>\n",
       "      <td>1</td>\n",
       "      <td>37.0</td>\n",
       "      <td>2.0</td>\n",
       "      <td>0.0</td>\n",
       "      <td>1.414214</td>\n",
       "      <td>561.248608</td>\n",
       "    </tr>\n",
       "    <tr>\n",
       "      <th>4</th>\n",
       "      <td>1</td>\n",
       "      <td>0</td>\n",
       "      <td>1</td>\n",
       "      <td>0</td>\n",
       "      <td>1</td>\n",
       "      <td>0</td>\n",
       "      <td>0</td>\n",
       "      <td>1</td>\n",
       "      <td>37.0</td>\n",
       "      <td>2.0</td>\n",
       "      <td>0.0</td>\n",
       "      <td>1.414214</td>\n",
       "      <td>561.248608</td>\n",
       "    </tr>\n",
       "    <tr>\n",
       "      <th>6</th>\n",
       "      <td>1</td>\n",
       "      <td>0</td>\n",
       "      <td>1</td>\n",
       "      <td>0</td>\n",
       "      <td>1</td>\n",
       "      <td>0</td>\n",
       "      <td>0</td>\n",
       "      <td>1</td>\n",
       "      <td>37.0</td>\n",
       "      <td>2.0</td>\n",
       "      <td>0.0</td>\n",
       "      <td>1.414214</td>\n",
       "      <td>561.248608</td>\n",
       "    </tr>\n",
       "    <tr>\n",
       "      <th>7</th>\n",
       "      <td>1</td>\n",
       "      <td>0</td>\n",
       "      <td>0</td>\n",
       "      <td>0</td>\n",
       "      <td>0</td>\n",
       "      <td>2</td>\n",
       "      <td>0</td>\n",
       "      <td>1</td>\n",
       "      <td>61.0</td>\n",
       "      <td>0.0</td>\n",
       "      <td>0.0</td>\n",
       "      <td>1.414214</td>\n",
       "      <td>424.264069</td>\n",
       "    </tr>\n",
       "  </tbody>\n",
       "</table>\n",
       "</div>"
      ],
      "text/plain": [
       "   label  GENDER  Car_Owner  Propert_Owner  Type_Income  EDUCATION  \\\n",
       "0      1       1          1              1            0          0   \n",
       "1      1       0          1              0            1          0   \n",
       "4      1       0          1              0            1          0   \n",
       "6      1       0          1              0            1          0   \n",
       "7      1       0          0              0            0          2   \n",
       "\n",
       "   Marital_status  Housing_type   age  Experience  children_sqrt   fa_sqrt  \\\n",
       "0               0             1  51.0         0.0            0.0  1.414214   \n",
       "1               0             1  37.0         2.0            0.0  1.414214   \n",
       "4               0             1  37.0         2.0            0.0  1.414214   \n",
       "6               0             1  37.0         2.0            0.0  1.414214   \n",
       "7               0             1  61.0         0.0            0.0  1.414214   \n",
       "\n",
       "   Annual_income_sqrt  \n",
       "0          424.264069  \n",
       "1          561.248608  \n",
       "4          561.248608  \n",
       "6          561.248608  \n",
       "7          424.264069  "
      ]
     },
     "execution_count": 75,
     "metadata": {},
     "output_type": "execute_result"
    }
   ],
   "source": [
    "df9.head()"
   ]
  },
  {
   "cell_type": "code",
   "execution_count": 76,
   "id": "6f997055",
   "metadata": {},
   "outputs": [
    {
     "data": {
      "application/vnd.jupyter.widget-view+json": {
       "model_id": "1e07a9ffa02e429cabf70d6ab7d8b8d9",
       "version_major": 2,
       "version_minor": 0
      },
      "text/plain": [
       "interactive(children=(Dropdown(description='col', options=('children_sqrt', 'Annual_income_sqrt', 'fa_sqrt', '…"
      ]
     },
     "metadata": {},
     "output_type": "display_data"
    }
   ],
   "source": [
    "cols= ['children_sqrt', 'Annual_income_sqrt','fa_sqrt','age','Experience']\n",
    "@interact\n",
    "def cat_uniq(col=cols):\n",
    "    sns.boxplot(df8[col])"
   ]
  },
  {
   "cell_type": "code",
   "execution_count": 77,
   "id": "fabdcccc",
   "metadata": {},
   "outputs": [],
   "source": [
    "def rem_out(df, col):\n",
    "    q1=df[col].quantile(0.25)\n",
    "    q3=df[col].quantile(0.75)\n",
    "    \n",
    "    iqr=q3-q1\n",
    "    ul=q3+1.5*iqr\n",
    "    ll=q1-1.5*iqr\n",
    "    df[col]=np.where(df[col]>ul,ul, df[col])\n",
    "    df[col]=np.where(df[col]<ll,ll, df[col])"
   ]
  },
  {
   "cell_type": "code",
   "execution_count": 78,
   "id": "904b7d84",
   "metadata": {},
   "outputs": [],
   "source": [
    "rem_out(df9,'Annual_income_sqrt')\n"
   ]
  },
  {
   "cell_type": "code",
   "execution_count": 79,
   "id": "6dc91483",
   "metadata": {},
   "outputs": [],
   "source": [
    "rem_out(df9,'Experience')"
   ]
  },
  {
   "cell_type": "code",
   "execution_count": 80,
   "id": "ac79db5e",
   "metadata": {},
   "outputs": [
    {
     "data": {
      "application/vnd.jupyter.widget-view+json": {
       "model_id": "73efd14f21e845339305365485978e45",
       "version_major": 2,
       "version_minor": 0
      },
      "text/plain": [
       "interactive(children=(Dropdown(description='col', options=('children_sqrt', 'Annual_income_sqrt', 'fa_sqrt', '…"
      ]
     },
     "metadata": {},
     "output_type": "display_data"
    }
   ],
   "source": [
    "cols= ['children_sqrt', 'Annual_income_sqrt','fa_sqrt','age','Experience']\n",
    "@interact\n",
    "def cat_uniq(col=cols):\n",
    "    sns.boxplot(df9[col])"
   ]
  },
  {
   "cell_type": "code",
   "execution_count": 81,
   "id": "286d9e29",
   "metadata": {},
   "outputs": [
    {
     "data": {
      "text/html": [
       "<div>\n",
       "<style scoped>\n",
       "    .dataframe tbody tr th:only-of-type {\n",
       "        vertical-align: middle;\n",
       "    }\n",
       "\n",
       "    .dataframe tbody tr th {\n",
       "        vertical-align: top;\n",
       "    }\n",
       "\n",
       "    .dataframe thead th {\n",
       "        text-align: right;\n",
       "    }\n",
       "</style>\n",
       "<table border=\"1\" class=\"dataframe\">\n",
       "  <thead>\n",
       "    <tr style=\"text-align: right;\">\n",
       "      <th></th>\n",
       "      <th>label</th>\n",
       "      <th>GENDER</th>\n",
       "      <th>Car_Owner</th>\n",
       "      <th>Propert_Owner</th>\n",
       "      <th>Type_Income</th>\n",
       "      <th>EDUCATION</th>\n",
       "      <th>Marital_status</th>\n",
       "      <th>Housing_type</th>\n",
       "      <th>age</th>\n",
       "      <th>Experience</th>\n",
       "      <th>children_sqrt</th>\n",
       "      <th>fa_sqrt</th>\n",
       "      <th>Annual_income_sqrt</th>\n",
       "    </tr>\n",
       "  </thead>\n",
       "  <tbody>\n",
       "    <tr>\n",
       "      <th>0</th>\n",
       "      <td>1</td>\n",
       "      <td>1</td>\n",
       "      <td>1</td>\n",
       "      <td>1</td>\n",
       "      <td>0</td>\n",
       "      <td>0</td>\n",
       "      <td>0</td>\n",
       "      <td>1</td>\n",
       "      <td>51.0</td>\n",
       "      <td>0.0</td>\n",
       "      <td>0.0</td>\n",
       "      <td>1.414214</td>\n",
       "      <td>424.264069</td>\n",
       "    </tr>\n",
       "    <tr>\n",
       "      <th>1</th>\n",
       "      <td>1</td>\n",
       "      <td>0</td>\n",
       "      <td>1</td>\n",
       "      <td>0</td>\n",
       "      <td>1</td>\n",
       "      <td>0</td>\n",
       "      <td>0</td>\n",
       "      <td>1</td>\n",
       "      <td>37.0</td>\n",
       "      <td>2.0</td>\n",
       "      <td>0.0</td>\n",
       "      <td>1.414214</td>\n",
       "      <td>561.248608</td>\n",
       "    </tr>\n",
       "    <tr>\n",
       "      <th>4</th>\n",
       "      <td>1</td>\n",
       "      <td>0</td>\n",
       "      <td>1</td>\n",
       "      <td>0</td>\n",
       "      <td>1</td>\n",
       "      <td>0</td>\n",
       "      <td>0</td>\n",
       "      <td>1</td>\n",
       "      <td>37.0</td>\n",
       "      <td>2.0</td>\n",
       "      <td>0.0</td>\n",
       "      <td>1.414214</td>\n",
       "      <td>561.248608</td>\n",
       "    </tr>\n",
       "    <tr>\n",
       "      <th>6</th>\n",
       "      <td>1</td>\n",
       "      <td>0</td>\n",
       "      <td>1</td>\n",
       "      <td>0</td>\n",
       "      <td>1</td>\n",
       "      <td>0</td>\n",
       "      <td>0</td>\n",
       "      <td>1</td>\n",
       "      <td>37.0</td>\n",
       "      <td>2.0</td>\n",
       "      <td>0.0</td>\n",
       "      <td>1.414214</td>\n",
       "      <td>561.248608</td>\n",
       "    </tr>\n",
       "    <tr>\n",
       "      <th>7</th>\n",
       "      <td>1</td>\n",
       "      <td>0</td>\n",
       "      <td>0</td>\n",
       "      <td>0</td>\n",
       "      <td>0</td>\n",
       "      <td>2</td>\n",
       "      <td>0</td>\n",
       "      <td>1</td>\n",
       "      <td>61.0</td>\n",
       "      <td>0.0</td>\n",
       "      <td>0.0</td>\n",
       "      <td>1.414214</td>\n",
       "      <td>424.264069</td>\n",
       "    </tr>\n",
       "  </tbody>\n",
       "</table>\n",
       "</div>"
      ],
      "text/plain": [
       "   label  GENDER  Car_Owner  Propert_Owner  Type_Income  EDUCATION  \\\n",
       "0      1       1          1              1            0          0   \n",
       "1      1       0          1              0            1          0   \n",
       "4      1       0          1              0            1          0   \n",
       "6      1       0          1              0            1          0   \n",
       "7      1       0          0              0            0          2   \n",
       "\n",
       "   Marital_status  Housing_type   age  Experience  children_sqrt   fa_sqrt  \\\n",
       "0               0             1  51.0         0.0            0.0  1.414214   \n",
       "1               0             1  37.0         2.0            0.0  1.414214   \n",
       "4               0             1  37.0         2.0            0.0  1.414214   \n",
       "6               0             1  37.0         2.0            0.0  1.414214   \n",
       "7               0             1  61.0         0.0            0.0  1.414214   \n",
       "\n",
       "   Annual_income_sqrt  \n",
       "0          424.264069  \n",
       "1          561.248608  \n",
       "4          561.248608  \n",
       "6          561.248608  \n",
       "7          424.264069  "
      ]
     },
     "execution_count": 81,
     "metadata": {},
     "output_type": "execute_result"
    }
   ],
   "source": [
    "df9.head() # Final dataframe for Model development"
   ]
  },
  {
   "cell_type": "code",
   "execution_count": 82,
   "id": "1075da87",
   "metadata": {},
   "outputs": [
    {
     "data": {
      "text/plain": [
       "<Axes: >"
      ]
     },
     "execution_count": 82,
     "metadata": {},
     "output_type": "execute_result"
    },
    {
     "data": {
      "image/png": "[encoded data removed]",
      "text/plain": [
       "<Figure size 1500x1000 with 2 Axes>"
      ]
     },
     "metadata": {},
     "output_type": "display_data"
    }
   ],
   "source": [
    "sns.heatmap(df9.corr(), annot=True, fmt='0.1g')"
   ]
  },
  {
   "cell_type": "markdown",
   "id": "e684ab33",
   "metadata": {},
   "source": [
    "Splitting the features and label"
   ]
  },
  {
   "cell_type": "code",
   "execution_count": 83,
   "id": "5b5bbf43",
   "metadata": {},
   "outputs": [],
   "source": [
    "x=df9.drop('label', axis=1)\n",
    "y=df9['label']"
   ]
  },
  {
   "cell_type": "code",
   "execution_count": 84,
   "id": "34def9d6",
   "metadata": {},
   "outputs": [],
   "source": [
    "x_train, x_test, y_train, y_test=train_test_split(x, y, stratify= y, test_size=0.25, random_state= 5)"
   ]
  },
  {
   "cell_type": "code",
   "execution_count": 85,
   "id": "05e47575",
   "metadata": {},
   "outputs": [],
   "source": [
    "sc= StandardScaler()"
   ]
  },
  {
   "cell_type": "code",
   "execution_count": 86,
   "id": "557c46e7",
   "metadata": {},
   "outputs": [],
   "source": [
    "x_train=sc.fit_transform(x_train)\n",
    "x_test=sc.fit_transform(x_test)"
   ]
  },
  {
   "cell_type": "markdown",
   "id": "849be464",
   "metadata": {},
   "source": [
    "# Model selection"
   ]
  },
  {
   "cell_type": "markdown",
   "id": "369653cc",
   "metadata": {},
   "source": [
    "1.Comparing the model with default hyperparameters values using Cross validation"
   ]
  },
  {
   "cell_type": "code",
   "execution_count": 87,
   "id": "61163371",
   "metadata": {},
   "outputs": [
    {
     "name": "stdout",
     "output_type": "stream",
     "text": [
      "LogisticRegression(max_iter=10000)\n",
      "cross validation accuracies [0.88888889 0.89285714 0.875      0.89285714 0.89285714]\n",
      "accuracy score 88.85\n",
      "**************************************************************************************\n",
      "RandomForestClassifier(random_state=5)\n",
      "cross validation accuracies [0.92       0.94642857 0.92857143 0.91071429 0.91964286]\n",
      "accuracy score 92.51\n",
      "**************************************************************************************\n",
      "KNeighborsClassifier()\n",
      "cross validation accuracies [0.87555556 0.90625    0.88839286 0.87946429 0.87053571]\n",
      "accuracy score 88.4\n",
      "**************************************************************************************\n",
      "SVC(kernel='linear')\n",
      "cross validation accuracies [0.89333333 0.89285714 0.89285714 0.89285714 0.89285714]\n",
      "accuracy score 89.3\n",
      "**************************************************************************************\n"
     ]
    }
   ],
   "source": [
    "#list of models\n",
    "models =[LogisticRegression(max_iter=10000), RandomForestClassifier(random_state=5), KNeighborsClassifier(), SVC(kernel='linear')]\n",
    "\n",
    "for model in models:\n",
    "    cv_score=cross_val_score(model, x_train, y_train, cv=5) # cv - splits data into 5 folds\n",
    "    mean= round(sum(cv_score)/len(cv_score)*100, 2)\n",
    "    \n",
    "    print(model)\n",
    "    print('cross validation accuracies', cv_score)\n",
    "    print('accuracy score', mean)\n",
    "    print('**************************************************************************************')"
   ]
  },
  {
   "cell_type": "markdown",
   "id": "915c8eef",
   "metadata": {},
   "source": [
    " Inference: For Credit card dataset RandomForestClassifier has the highest accuracy value with the default hyperparameters."
   ]
  },
  {
   "cell_type": "markdown",
   "id": "49266f26",
   "metadata": {},
   "source": [
    "2.Comparing the models with different hyperparameter values using 'GridSearchCV'"
   ]
  },
  {
   "cell_type": "code",
   "execution_count": 88,
   "id": "9fd67e32",
   "metadata": {},
   "outputs": [],
   "source": [
    "# models list\n",
    "model_list =[LogisticRegression(max_iter=10000), RandomForestClassifier(random_state=5), KNeighborsClassifier(), SVC()]\n",
    "\n",
    "#Creating a dictionary that contains hyperparameter values for above models\n",
    "hyper_para= { 'lr_hypara': {'C': [1, 5, 10]},'rfc_hypara':{'n_estimators':[20, 50, 100]}, 'kn_hypara':{'n_neighbors':[5, 10]},'svc_hypara':{'kernel':['linear','poly', 'rbf'],'C': [1, 5, 10]}} \n"
   ]
  },
  {
   "cell_type": "code",
   "execution_count": 89,
   "id": "422db12c",
   "metadata": {},
   "outputs": [
    {
     "data": {
      "text/plain": [
       "{'kernel': ['linear', 'poly', 'rbf'], 'C': [1, 5, 10]}"
      ]
     },
     "execution_count": 89,
     "metadata": {},
     "output_type": "execute_result"
    }
   ],
   "source": [
    "# To get the hyperparameters of models from dict\n",
    "model_keys=list(hyper_para.keys()) \n",
    "a= model_keys[3]\n",
    "hyper_para[a]"
   ]
  },
  {
   "cell_type": "markdown",
   "id": "cf7c7469",
   "metadata": {},
   "source": [
    "# Applying GridSearchCV"
   ]
  },
  {
   "cell_type": "markdown",
   "id": "3e58a82b",
   "metadata": {},
   "source": [
    "loop to iterate over different model with different hyperparameters and applying GridSearchCV to select best hyperparametes"
   ]
  },
  {
   "cell_type": "code",
   "execution_count": 90,
   "id": "f4b8a5e3",
   "metadata": {},
   "outputs": [
    {
     "name": "stdout",
     "output_type": "stream",
     "text": [
      "LogisticRegression(max_iter=10000)\n",
      "{'C': [1, 5, 10]}\n",
      "RandomForestClassifier(random_state=5)\n",
      "{'n_estimators': [20, 50, 100]}\n",
      "KNeighborsClassifier()\n",
      "{'n_neighbors': [5, 10]}\n",
      "SVC()\n",
      "{'kernel': ['linear', 'poly', 'rbf'], 'C': [1, 5, 10]}\n"
     ]
    }
   ],
   "source": [
    "\n",
    "best_result=[]\n",
    "i=0\n",
    "for model in model_list:\n",
    "    key=model_keys[i]\n",
    "    param=hyper_para[key]\n",
    "    \n",
    "    i+= 1\n",
    "    print(model)\n",
    "    print(param)\n",
    "    \n",
    "    classifier=GridSearchCV(model, param, cv=5)\n",
    "    \n",
    "    classifier.fit(x_train, y_train)\n",
    "    \n",
    "    best_result.append({'model': model, 'highest_score': classifier.best_score_ , 'best_param': classifier.best_params_ })\n",
    "    \n",
    "\n",
    "    "
   ]
  },
  {
   "cell_type": "code",
   "execution_count": 91,
   "id": "8a8e1654",
   "metadata": {},
   "outputs": [
    {
     "data": {
      "text/plain": [
       "[{'model': LogisticRegression(max_iter=10000),\n",
       "  'highest_score': 0.8884920634920634,\n",
       "  'best_param': {'C': 1}},\n",
       " {'model': RandomForestClassifier(random_state=5),\n",
       "  'highest_score': 0.9286349206349206,\n",
       "  'best_param': {'n_estimators': 50}},\n",
       " {'model': KNeighborsClassifier(),\n",
       "  'highest_score': 0.8902777777777777,\n",
       "  'best_param': {'n_neighbors': 10}},\n",
       " {'model': SVC(),\n",
       "  'highest_score': 0.8929563492063493,\n",
       "  'best_param': {'C': 5, 'kernel': 'rbf'}}]"
      ]
     },
     "execution_count": 91,
     "metadata": {},
     "output_type": "execute_result"
    }
   ],
   "source": [
    "best_result"
   ]
  },
  {
   "cell_type": "code",
   "execution_count": 92,
   "id": "701a33a4",
   "metadata": {},
   "outputs": [
    {
     "data": {
      "text/html": [
       "<div>\n",
       "<style scoped>\n",
       "    .dataframe tbody tr th:only-of-type {\n",
       "        vertical-align: middle;\n",
       "    }\n",
       "\n",
       "    .dataframe tbody tr th {\n",
       "        vertical-align: top;\n",
       "    }\n",
       "\n",
       "    .dataframe thead th {\n",
       "        text-align: right;\n",
       "    }\n",
       "</style>\n",
       "<table border=\"1\" class=\"dataframe\">\n",
       "  <thead>\n",
       "    <tr style=\"text-align: right;\">\n",
       "      <th></th>\n",
       "      <th>model</th>\n",
       "      <th>highest_score</th>\n",
       "      <th>best_param</th>\n",
       "    </tr>\n",
       "  </thead>\n",
       "  <tbody>\n",
       "    <tr>\n",
       "      <th>0</th>\n",
       "      <td>LogisticRegression(max_iter=10000)</td>\n",
       "      <td>0.888492</td>\n",
       "      <td>{'C': 1}</td>\n",
       "    </tr>\n",
       "    <tr>\n",
       "      <th>1</th>\n",
       "      <td>RandomForestClassifier(random_state=5)</td>\n",
       "      <td>0.928635</td>\n",
       "      <td>{'n_estimators': 50}</td>\n",
       "    </tr>\n",
       "    <tr>\n",
       "      <th>2</th>\n",
       "      <td>KNeighborsClassifier()</td>\n",
       "      <td>0.890278</td>\n",
       "      <td>{'n_neighbors': 10}</td>\n",
       "    </tr>\n",
       "    <tr>\n",
       "      <th>3</th>\n",
       "      <td>SVC()</td>\n",
       "      <td>0.892956</td>\n",
       "      <td>{'C': 5, 'kernel': 'rbf'}</td>\n",
       "    </tr>\n",
       "  </tbody>\n",
       "</table>\n",
       "</div>"
      ],
      "text/plain": [
       "                                    model  highest_score  \\\n",
       "0      LogisticRegression(max_iter=10000)       0.888492   \n",
       "1  RandomForestClassifier(random_state=5)       0.928635   \n",
       "2                  KNeighborsClassifier()       0.890278   \n",
       "3                                   SVC()       0.892956   \n",
       "\n",
       "                  best_param  \n",
       "0                   {'C': 1}  \n",
       "1       {'n_estimators': 50}  \n",
       "2        {'n_neighbors': 10}  \n",
       "3  {'C': 5, 'kernel': 'rbf'}  "
      ]
     },
     "execution_count": 92,
     "metadata": {},
     "output_type": "execute_result"
    }
   ],
   "source": [
    "best_df=pd.DataFrame(best_result)\n",
    "best_df # Table of models and their respective highest score and best hyperparameters"
   ]
  },
  {
   "cell_type": "markdown",
   "id": "99173e23",
   "metadata": {},
   "source": [
    " Best model is RandomForestClassifier and n_estimators is 20 with highest score of 92 among all models"
   ]
  },
  {
   "cell_type": "markdown",
   "id": "c52b95fb",
   "metadata": {},
   "source": [
    "# RandomForestClassifier"
   ]
  },
  {
   "cell_type": "code",
   "execution_count": 93,
   "id": "f007a944",
   "metadata": {},
   "outputs": [],
   "source": [
    "# Model development\n",
    "rfc=RandomForestClassifier(random_state=5, n_estimators=50)"
   ]
  },
  {
   "cell_type": "code",
   "execution_count": 94,
   "id": "0555e08c",
   "metadata": {},
   "outputs": [
    {
     "data": {
      "text/html": [
       "<style>#sk-container-id-1 {color: black;}#sk-container-id-1 pre{padding: 0;}#sk-container-id-1 div.sk-toggleable {background-color: white;}#sk-container-id-1 label.sk-toggleable__label {cursor: pointer;display: block;width: 100%;margin-bottom: 0;padding: 0.3em;box-sizing: border-box;text-align: center;}#sk-container-id-1 label.sk-toggleable__label-arrow:before {content: \"▸\";float: left;margin-right: 0.25em;color: #696969;}#sk-container-id-1 label.sk-toggleable__label-arrow:hover:before {color: black;}#sk-container-id-1 div.sk-estimator:hover label.sk-toggleable__label-arrow:before {color: black;}#sk-container-id-1 div.sk-toggleable__content {max-height: 0;max-width: 0;overflow: hidden;text-align: left;background-color: #f0f8ff;}#sk-container-id-1 div.sk-toggleable__content pre {margin: 0.2em;color: black;border-radius: 0.25em;background-color: #f0f8ff;}#sk-container-id-1 input.sk-toggleable__control:checked~div.sk-toggleable__content {max-height: 200px;max-width: 100%;overflow: auto;}#sk-container-id-1 input.sk-toggleable__control:checked~label.sk-toggleable__label-arrow:before {content: \"▾\";}#sk-container-id-1 div.sk-estimator input.sk-toggleable__control:checked~label.sk-toggleable__label {background-color: #d4ebff;}#sk-container-id-1 div.sk-label input.sk-toggleable__control:checked~label.sk-toggleable__label {background-color: #d4ebff;}#sk-container-id-1 input.sk-hidden--visually {border: 0;clip: rect(1px 1px 1px 1px);clip: rect(1px, 1px, 1px, 1px);height: 1px;margin: -1px;overflow: hidden;padding: 0;position: absolute;width: 1px;}#sk-container-id-1 div.sk-estimator {font-family: monospace;background-color: #f0f8ff;border: 1px dotted black;border-radius: 0.25em;box-sizing: border-box;margin-bottom: 0.5em;}#sk-container-id-1 div.sk-estimator:hover {background-color: #d4ebff;}#sk-container-id-1 div.sk-parallel-item::after {content: \"\";width: 100%;border-bottom: 1px solid gray;flex-grow: 1;}#sk-container-id-1 div.sk-label:hover label.sk-toggleable__label {background-color: #d4ebff;}#sk-container-id-1 div.sk-serial::before {content: \"\";position: absolute;border-left: 1px solid gray;box-sizing: border-box;top: 0;bottom: 0;left: 50%;z-index: 0;}#sk-container-id-1 div.sk-serial {display: flex;flex-direction: column;align-items: center;background-color: white;padding-right: 0.2em;padding-left: 0.2em;position: relative;}#sk-container-id-1 div.sk-item {position: relative;z-index: 1;}#sk-container-id-1 div.sk-parallel {display: flex;align-items: stretch;justify-content: center;background-color: white;position: relative;}#sk-container-id-1 div.sk-item::before, #sk-container-id-1 div.sk-parallel-item::before {content: \"\";position: absolute;border-left: 1px solid gray;box-sizing: border-box;top: 0;bottom: 0;left: 50%;z-index: -1;}#sk-container-id-1 div.sk-parallel-item {display: flex;flex-direction: column;z-index: 1;position: relative;background-color: white;}#sk-container-id-1 div.sk-parallel-item:first-child::after {align-self: flex-end;width: 50%;}#sk-container-id-1 div.sk-parallel-item:last-child::after {align-self: flex-start;width: 50%;}#sk-container-id-1 div.sk-parallel-item:only-child::after {width: 0;}#sk-container-id-1 div.sk-dashed-wrapped {border: 1px dashed gray;margin: 0 0.4em 0.5em 0.4em;box-sizing: border-box;padding-bottom: 0.4em;background-color: white;}#sk-container-id-1 div.sk-label label {font-family: monospace;font-weight: bold;display: inline-block;line-height: 1.2em;}#sk-container-id-1 div.sk-label-container {text-align: center;}#sk-container-id-1 div.sk-container {/* jupyter's `normalize.less` sets `[hidden] { display: none; }` but bootstrap.min.css set `[hidden] { display: none !important; }` so we also need the `!important` here to be able to override the default hidden behavior on the sphinx rendered scikit-learn.org. See: https://github.com/scikit-learn/scikit-learn/issues/21755 */display: inline-block !important;position: relative;}#sk-container-id-1 div.sk-text-repr-fallback {display: none;}</style><div id=\"sk-container-id-1\" class=\"sk-top-container\"><div class=\"sk-text-repr-fallback\"><pre>RandomForestClassifier(n_estimators=50, random_state=5)</pre><b>In a Jupyter environment, please rerun this cell to show the HTML representation or trust the notebook. <br />On GitHub, the HTML representation is unable to render, please try loading this page with nbviewer.org.</b></div><div class=\"sk-container\" hidden><div class=\"sk-item\"><div class=\"sk-estimator sk-toggleable\"><input class=\"sk-toggleable__control sk-hidden--visually\" id=\"sk-estimator-id-1\" type=\"checkbox\" checked><label for=\"sk-estimator-id-1\" class=\"sk-toggleable__label sk-toggleable__label-arrow\">RandomForestClassifier</label><div class=\"sk-toggleable__content\"><pre>RandomForestClassifier(n_estimators=50, random_state=5)</pre></div></div></div></div></div>"
      ],
      "text/plain": [
       "RandomForestClassifier(n_estimators=50, random_state=5)"
      ]
     },
     "execution_count": 94,
     "metadata": {},
     "output_type": "execute_result"
    }
   ],
   "source": [
    "#fitting tha data into model\n",
    "rfc.fit(x_train, y_train)"
   ]
  },
  {
   "cell_type": "code",
   "execution_count": 95,
   "id": "00613e79",
   "metadata": {},
   "outputs": [],
   "source": [
    "# predicting the labels using testing set of features\n",
    "prediction = rfc.predict(x_test)"
   ]
  },
  {
   "cell_type": "markdown",
   "id": "2b18e057",
   "metadata": {},
   "source": [
    "Accuracy of model during Training and Testing"
   ]
  },
  {
   "cell_type": "code",
   "execution_count": 96,
   "id": "dc159fb8",
   "metadata": {},
   "outputs": [
    {
     "name": "stdout",
     "output_type": "stream",
     "text": [
      "Model_Accuracy\n",
      "Training_accuracy: 0.9973238180196253\n",
      "cross_validation_accuracy: 0.9286349206349206\n",
      "Testing_accuracy: 0.9197860962566845\n"
     ]
    }
   ],
   "source": [
    "cv_score=cross_val_score(rfc, x_train, y_train, cv=5)\n",
    "print(\"Model_Accuracy\")\n",
    "print('Training_accuracy:',rfc.score(x_train, y_train))\n",
    "print('cross_validation_accuracy:',cv_score.mean())\n",
    "print('Testing_accuracy:', accuracy_score(y_test, prediction))\n"
   ]
  },
  {
   "cell_type": "code",
   "execution_count": 97,
   "id": "960dd803",
   "metadata": {},
   "outputs": [
    {
     "name": "stdout",
     "output_type": "stream",
     "text": [
      "RandomForestClassifier classification_report\n",
      "-------------------------------------\n",
      "              precision    recall  f1-score   support\n",
      "\n",
      "           0       0.93      0.99      0.96       334\n",
      "           1       0.75      0.38      0.50        40\n",
      "\n",
      "    accuracy                           0.92       374\n",
      "   macro avg       0.84      0.68      0.73       374\n",
      "weighted avg       0.91      0.92      0.91       374\n",
      "\n"
     ]
    }
   ],
   "source": [
    "print('RandomForestClassifier classification_report')\n",
    "print('-------------------------------------')\n",
    "print(classification_report(y_test, prediction))"
   ]
  },
  {
   "cell_type": "code",
   "execution_count": 98,
   "id": "cee77ce2",
   "metadata": {},
   "outputs": [
    {
     "name": "stdout",
     "output_type": "stream",
     "text": [
      "RandomForestClassifier confusion_matrix\n",
      "-------------------------------------\n",
      "[[329   5]\n",
      " [ 25  15]]\n"
     ]
    },
    {
     "data": {
      "text/plain": [
       "Text(158.22222222222223, 0.5, 'y_test')"
      ]
     },
     "execution_count": 98,
     "metadata": {},
     "output_type": "execute_result"
    },
    {
     "data": {
      "image/png": "[encoded data removed]",
      "text/plain": [
       "<Figure size 1500x1000 with 2 Axes>"
      ]
     },
     "metadata": {},
     "output_type": "display_data"
    }
   ],
   "source": [
    "print('RandomForestClassifier confusion_matrix')\n",
    "print('-------------------------------------')\n",
    "cm= confusion_matrix(y_test, prediction)\n",
    "print(cm)\n",
    "\n",
    "\n",
    "sns.heatmap(cm, annot=True, fmt='0.3g')\n",
    "plt.xlabel('Predicted')\n",
    "plt.ylabel('y_test')"
   ]
  },
  {
   "cell_type": "markdown",
   "id": "7c218717",
   "metadata": {},
   "source": [
    "for above given prediction model predicted 0 as \n"
   ]
  },
  {
   "cell_type": "code",
   "execution_count": 99,
   "id": "f8f3ca70",
   "metadata": {},
   "outputs": [
    {
     "data": {
      "text/html": [
       "<div>\n",
       "<style scoped>\n",
       "    .dataframe tbody tr th:only-of-type {\n",
       "        vertical-align: middle;\n",
       "    }\n",
       "\n",
       "    .dataframe tbody tr th {\n",
       "        vertical-align: top;\n",
       "    }\n",
       "\n",
       "    .dataframe thead th {\n",
       "        text-align: right;\n",
       "    }\n",
       "</style>\n",
       "<table border=\"1\" class=\"dataframe\">\n",
       "  <thead>\n",
       "    <tr style=\"text-align: right;\">\n",
       "      <th></th>\n",
       "      <th>GENDER</th>\n",
       "      <th>Car_Owner</th>\n",
       "      <th>Propert_Owner</th>\n",
       "      <th>Type_Income</th>\n",
       "      <th>EDUCATION</th>\n",
       "      <th>Marital_status</th>\n",
       "      <th>Housing_type</th>\n",
       "      <th>age</th>\n",
       "      <th>Experience</th>\n",
       "      <th>children_sqrt</th>\n",
       "      <th>fa_sqrt</th>\n",
       "      <th>Annual_income_sqrt</th>\n",
       "    </tr>\n",
       "  </thead>\n",
       "  <tbody>\n",
       "    <tr>\n",
       "      <th>0</th>\n",
       "      <td>1</td>\n",
       "      <td>1</td>\n",
       "      <td>1</td>\n",
       "      <td>0</td>\n",
       "      <td>0</td>\n",
       "      <td>0</td>\n",
       "      <td>1</td>\n",
       "      <td>51.0</td>\n",
       "      <td>0.0</td>\n",
       "      <td>0.0</td>\n",
       "      <td>1.414214</td>\n",
       "      <td>424.264069</td>\n",
       "    </tr>\n",
       "    <tr>\n",
       "      <th>1</th>\n",
       "      <td>0</td>\n",
       "      <td>1</td>\n",
       "      <td>0</td>\n",
       "      <td>1</td>\n",
       "      <td>0</td>\n",
       "      <td>0</td>\n",
       "      <td>1</td>\n",
       "      <td>37.0</td>\n",
       "      <td>2.0</td>\n",
       "      <td>0.0</td>\n",
       "      <td>1.414214</td>\n",
       "      <td>561.248608</td>\n",
       "    </tr>\n",
       "    <tr>\n",
       "      <th>4</th>\n",
       "      <td>0</td>\n",
       "      <td>1</td>\n",
       "      <td>0</td>\n",
       "      <td>1</td>\n",
       "      <td>0</td>\n",
       "      <td>0</td>\n",
       "      <td>1</td>\n",
       "      <td>37.0</td>\n",
       "      <td>2.0</td>\n",
       "      <td>0.0</td>\n",
       "      <td>1.414214</td>\n",
       "      <td>561.248608</td>\n",
       "    </tr>\n",
       "    <tr>\n",
       "      <th>6</th>\n",
       "      <td>0</td>\n",
       "      <td>1</td>\n",
       "      <td>0</td>\n",
       "      <td>1</td>\n",
       "      <td>0</td>\n",
       "      <td>0</td>\n",
       "      <td>1</td>\n",
       "      <td>37.0</td>\n",
       "      <td>2.0</td>\n",
       "      <td>0.0</td>\n",
       "      <td>1.414214</td>\n",
       "      <td>561.248608</td>\n",
       "    </tr>\n",
       "    <tr>\n",
       "      <th>7</th>\n",
       "      <td>0</td>\n",
       "      <td>0</td>\n",
       "      <td>0</td>\n",
       "      <td>0</td>\n",
       "      <td>2</td>\n",
       "      <td>0</td>\n",
       "      <td>1</td>\n",
       "      <td>61.0</td>\n",
       "      <td>0.0</td>\n",
       "      <td>0.0</td>\n",
       "      <td>1.414214</td>\n",
       "      <td>424.264069</td>\n",
       "    </tr>\n",
       "  </tbody>\n",
       "</table>\n",
       "</div>"
      ],
      "text/plain": [
       "   GENDER  Car_Owner  Propert_Owner  Type_Income  EDUCATION  Marital_status  \\\n",
       "0       1          1              1            0          0               0   \n",
       "1       0          1              0            1          0               0   \n",
       "4       0          1              0            1          0               0   \n",
       "6       0          1              0            1          0               0   \n",
       "7       0          0              0            0          2               0   \n",
       "\n",
       "   Housing_type   age  Experience  children_sqrt   fa_sqrt  Annual_income_sqrt  \n",
       "0             1  51.0         0.0            0.0  1.414214          424.264069  \n",
       "1             1  37.0         2.0            0.0  1.414214          561.248608  \n",
       "4             1  37.0         2.0            0.0  1.414214          561.248608  \n",
       "6             1  37.0         2.0            0.0  1.414214          561.248608  \n",
       "7             1  61.0         0.0            0.0  1.414214          424.264069  "
      ]
     },
     "execution_count": 99,
     "metadata": {},
     "output_type": "execute_result"
    }
   ],
   "source": [
    "x.head()"
   ]
  },
  {
   "cell_type": "code",
   "execution_count": 100,
   "id": "4f6fe53a",
   "metadata": {},
   "outputs": [
    {
     "data": {
      "application/vnd.jupyter.widget-view+json": {
       "model_id": "803808b9fb3b41b6aaca2f78756a157e",
       "version_major": 2,
       "version_minor": 0
      },
      "text/plain": [
       "interactive(children=(Dropdown(description='col', options=('GENDER', 'Car_Owner', 'Propert_Owner', 'Type_Incom…"
      ]
     },
     "metadata": {},
     "output_type": "display_data"
    }
   ],
   "source": [
    "@interact\n",
    "def cat_uniq(col=list(x.columns)):\n",
    "    print(x[col].value_counts())"
   ]
  },
  {
   "cell_type": "code",
   "execution_count": 101,
   "id": "e0a1fa1f",
   "metadata": {},
   "outputs": [
    {
     "data": {
      "application/vnd.jupyter.widget-view+json": {
       "model_id": "3ddc60b08e5049c281344b49d02cdb97",
       "version_major": 2,
       "version_minor": 0
      },
      "text/plain": [
       "interactive(children=(Dropdown(description='col', options=('GENDER', 'Car_Owner', 'Propert_Owner', 'Type_Incom…"
      ]
     },
     "metadata": {},
     "output_type": "display_data"
    }
   ],
   "source": [
    "@interact\n",
    "def cat_uniq(col=list(df4_cat1.columns)):\n",
    "    print(df4_cat1[col].value_counts())"
   ]
  },
  {
   "cell_type": "code",
   "execution_count": 102,
   "id": "a27c27cf",
   "metadata": {},
   "outputs": [],
   "source": [
    "colms= x.columns"
   ]
  },
  {
   "cell_type": "code",
   "execution_count": 103,
   "id": "2ca8a0a3",
   "metadata": {},
   "outputs": [],
   "source": [
    "# list of all the features with their encoded numbers\n",
    "Details=['No_of Children =','No_of family members =', 'Gender: Female- 0, Male- 1 =', 'Car_owner: No-0, Yes-1 =','Property_owner:No-0,Yes-1 =','Type_Income: Working-1, Pensioner-0 =', 'Education:Lower Secondary-0, Degree-1, Secondary-2=','Martial status:Married-0, Single(married)-1,Singele(Not married)-2 =','Housing type: No-Own house-0, Own house-1 =', 'Age =', 'Experience(years) =']"
   ]
  },
  {
   "cell_type": "markdown",
   "id": "9cdd2d4f",
   "metadata": {},
   "source": [
    "# User input to predict Credit card approval"
   ]
  },
  {
   "cell_type": "code",
   "execution_count": 104,
   "id": "40f6e351",
   "metadata": {},
   "outputs": [
    {
     "name": "stdout",
     "output_type": "stream",
     "text": [
      "Enter details to check credit card availability\n",
      "-----------------------------------------------------\n",
      "1.No_of Children = :2\n",
      "-----------------------------------------------------\n",
      "2.No_of family members = :4\n",
      "-----------------------------------------------------\n",
      "3.Gender: Female- 0, Male- 1 = :0\n",
      "-----------------------------------------------------\n",
      "4.Car_owner: No-0, Yes-1 = :0\n",
      "-----------------------------------------------------\n",
      "5.Property_owner:No-0,Yes-1 = :0\n",
      "-----------------------------------------------------\n",
      "6.Type_Income: Working-1, Pensioner-0 = :0\n",
      "-----------------------------------------------------\n",
      "7.Education:Lower Secondary-0, Degree-1, Secondary-2= :0\n",
      "-----------------------------------------------------\n",
      "8.Martial status:Married-0, Single(married)-1,Singele(Not married)-2 = :0\n",
      "-----------------------------------------------------\n",
      "9.Housing type: No-Own house-0, Own house-1 = :1\n",
      "-----------------------------------------------------\n",
      "10.Age = :27\n",
      "-----------------------------------------------------\n",
      "11.Experience(years) = :4\n",
      "12. annual income:200000\n",
      "*************************************************************\n",
      "{'GENDER': 2, 'Car_Owner': 4, 'Propert_Owner': 0, 'Type_Income': 0, 'EDUCATION': 0, 'Marital_status': 0, 'Housing_type': 0, 'age': 0, 'Experience': 1, 'children_sqrt': 27, 'fa_sqrt': 4, 'Annual_income_sqrt': 447.21359549995793}\n"
     ]
    }
   ],
   "source": [
    "import math\n",
    "colms= x.columns\n",
    "print('Enter details to check credit card availability')\n",
    "Criteria={}\n",
    "a =1\n",
    "\n",
    "# iterate over all features to collect input from user\n",
    "for i in Details:\n",
    "      print('-----------------------------------------------------')\n",
    "      user_input=int(input(f'{a}.{i} :' ) )\n",
    "      a +=1\n",
    "      Criteria[colms[a-2]]=user_input # it adds user input to \"Criteria\" dictionary\n",
    "      \n",
    "user_input1=math.sqrt(int(input(f'{a}. annual income:' )))\n",
    "Criteria[colms[a-1]] = user_input1\n",
    "\n",
    "\n",
    "print('*************************************************************')\n",
    "print(Criteria)"
   ]
  },
  {
   "cell_type": "code",
   "execution_count": 106,
   "id": "6fb378cf",
   "metadata": {},
   "outputs": [
    {
     "name": "stdout",
     "output_type": "stream",
     "text": [
      "   GENDER  Car_Owner  Propert_Owner  Type_Income  EDUCATION  Marital_status  \\\n",
      "0       2          4              0            0          0               0   \n",
      "\n",
      "   Housing_type  age  Experience  children_sqrt  fa_sqrt  Annual_income_sqrt  \n",
      "0             0    0           1             27        4          447.213595  \n",
      "****************************************************************\n",
      "prediction: [0]\n",
      "-----------------------------------------------------------------\n",
      "'Sorry', For this customer credit card is not approved \n"
     ]
    }
   ],
   "source": [
    "# convertiong dictionary to DataFrame\n",
    "Criteria_df=pd.DataFrame([Criteria]) \n",
    "z= Criteria_df\n",
    "print(z)\n",
    "print('****************************************************************')\n",
    "\n",
    "# scaling features using standard scaler\n",
    "z=sc.fit_transform(z)\n",
    "\n",
    "# predicting the Credit card approval\n",
    "pred = rfc.predict(z)\n",
    "print('prediction:', pred)\n",
    "print('-----------------------------------------------------------------')\n",
    "\n",
    "if pred == 0:\n",
    "    print(\"'Sorry', For this customer credit card is not approved \")\n",
    "else:\n",
    "    print(\" 'Good', You can approve a credit card to this customer\")"
   ]
  },
  {
   "cell_type": "markdown",
   "id": "1662f96e",
   "metadata": {},
   "source": [
    "# Conclusion"
   ]
  },
  {
   "cell_type": "markdown",
   "id": "5c5e34ce",
   "metadata": {},
   "source": [
    "This project aims to develop a machine learning model to predict credit card approval with high accuracy. The model will be trained on a dataset of customer information and credit card approval decisions. The model will be used to improve the bank's credit card approval process by identifying applicants who are more likely to be approved.\n",
    "\n",
    "The proposed approach is important because it can help banks to make more informed decisions about credit card applications. This can lead to a reduction in credit card fraud and a decrease in the number of bad debts. The proposed approach can also be used to develop targeted marketing campaigns for credit cards.\n",
    "\n",
    "The proposed approach is feasible because the data required to train the model is available from banks. The data can be collected from credit card applications and credit bureau reports. The data can be cleaned and prepared using standard data science techniques.\n",
    "\n",
    "The proposed approach is beneficial because it can help banks to improve their credit card approval process and reduce credit card fraud. The proposed approach can also be used to develop targeted marketing campaigns for credit cards."
   ]
  },
  {
   "cell_type": "code",
   "execution_count": null,
   "id": "fb7bea9a",
   "metadata": {},
   "outputs": [],
   "source": []
  },
  {
   "cell_type": "code",
   "execution_count": null,
   "id": "30efe8b5",
   "metadata": {},
   "outputs": [],
   "source": []
  }
 ],
 "metadata": {
  "kernelspec": {
   "display_name": "Python 3 (ipykernel)",
   "language": "python",
   "name": "python3"
  },
  "language_info": {
   "codemirror_mode": {
    "name": "ipython",
    "version": 3
   },
   "file_extension": ".py",
   "mimetype": "text/x-python",
   "name": "python",
   "nbconvert_exporter": "python",
   "pygments_lexer": "ipython3",
   "version": "3.10.6"
  }
 },
 "nbformat": 4,
 "nbformat_minor": 5
}
